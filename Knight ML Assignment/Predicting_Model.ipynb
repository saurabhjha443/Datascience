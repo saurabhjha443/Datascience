{
 "cells": [
  {
   "cell_type": "code",
   "execution_count": 2,
   "metadata": {},
   "outputs": [],
   "source": [
    "import pandas as pd  \n",
    "import numpy as np \n",
    "import seaborn as sns\n",
    "import matplotlib.pyplot as plt \n",
    "sns.set()\n",
    "import re"
   ]
  },
  {
   "cell_type": "code",
   "execution_count": 1,
   "metadata": {},
   "outputs": [],
   "source": [
    "from sklearn.feature_extraction.text import CountVectorizer\n",
    "from nltk.corpus import stopwords\n",
    "from sklearn.metrics import accuracy_score\n",
    "from sklearn.svm import SVC"
   ]
  },
  {
   "cell_type": "code",
   "execution_count": 4,
   "metadata": {},
   "outputs": [],
   "source": [
    "raw_train_data=pd.read_csv(\"Data\\\\train.csv\")\n",
    "raw_test_data=pd.read_csv(\"Data\\\\test.csv\")"
   ]
  },
  {
   "cell_type": "code",
   "execution_count": 5,
   "metadata": {},
   "outputs": [
    {
     "output_type": "execute_result",
     "data": {
      "text/plain": "0        Classic Chardonnay aromas of apple, pear and h...\n1        This wine is near equal parts Syrah and Merlot...\n2        Barolo Conca opens with inky dark concentratio...\n3        It's impressive what a small addition of Sauvi...\n4        This ripe, sweet wine is rich and full of drie...\n                               ...                        \n82652    Hot earth, baked cherry and mild vanilla aroma...\n82653    Pungent, high-pitched notes of turmeric and dr...\n82654    This is a wine that's not just lively and frui...\n82655    An impressive wine, it already shows signs of ...\n82656    A big, rich, vital Cabernet with immediate att...\nName: review_description, Length: 82657, dtype: object"
     },
     "metadata": {},
     "execution_count": 5
    }
   ],
   "source": [
    "train_data=raw_train_data['review_description']\n",
    "train_data"
   ]
  },
  {
   "cell_type": "code",
   "execution_count": 6,
   "metadata": {},
   "outputs": [
    {
     "output_type": "execute_result",
     "data": {
      "text/plain": "0        Nicely differentiated from the companion Stewa...\n1        Charred, smoky, herbal aromas of blackberry tr...\n2        Slightly sour and funky in earth, this is a re...\n3        This concentrated, midnight-black Malbec deliv...\n4        Earthy aromas suggesting grilled porcini, leat...\n                               ...                        \n20660    Clearly focused and fruit-driven, this wine ha...\n20661    Herbal tones of bay and rosemary are upfront o...\n20662    Mocha cream, pencil shaving and dried herb aro...\n20663    Loud citrus and berry aromas precede an overlo...\n20664    With very ripe fruit and firm tannins, this mo...\nName: review_description, Length: 20665, dtype: object"
     },
     "metadata": {},
     "execution_count": 6
    }
   ],
   "source": [
    "test_data=raw_test_data['review_description']\n",
    "test_data"
   ]
  },
  {
   "cell_type": "code",
   "execution_count": 7,
   "metadata": {},
   "outputs": [],
   "source": [
    "stopwords=set(stopwords.words('english'))\n",
    "cv = CountVectorizer(stop_words=stopwords)\n",
    "x_train_vect = cv.fit_transform(train_data)\n",
    "x_test_vect=cv.transform(test_data)"
   ]
  },
  {
   "cell_type": "code",
   "execution_count": 8,
   "metadata": {},
   "outputs": [],
   "source": [
    "y_train=raw_train_data.variety"
   ]
  },
  {
   "cell_type": "code",
   "execution_count": 9,
   "metadata": {},
   "outputs": [
    {
     "output_type": "execute_result",
     "data": {
      "text/plain": "<82657x25871 sparse matrix of type '<class 'numpy.int64'>'\n\twith 2043150 stored elements in Compressed Sparse Row format>"
     },
     "metadata": {},
     "execution_count": 9
    }
   ],
   "source": [
    "x_train_vect"
   ]
  },
  {
   "cell_type": "code",
   "execution_count": 10,
   "metadata": {},
   "outputs": [
    {
     "output_type": "execute_result",
     "data": {
      "text/plain": "SVC(C=1.0, break_ties=False, cache_size=200, class_weight=None, coef0=0.0,\n    decision_function_shape='ovr', degree=3, gamma='scale', kernel='rbf',\n    max_iter=-1, probability=False, random_state=None, shrinking=True,\n    tol=0.001, verbose=False)"
     },
     "metadata": {},
     "execution_count": 10
    }
   ],
   "source": [
    "model=SVC()\n",
    "model.fit(x_train_vect,y_train)"
   ]
  },
  {
   "cell_type": "code",
   "execution_count": 11,
   "metadata": {},
   "outputs": [
    {
     "output_type": "stream",
     "name": "stdout",
     "text": "Accuracy Score: 0.889882284621992\n"
    }
   ],
   "source": [
    "y_train_pred=model.predict(x_train_vect)\n",
    "print(\"Accuracy Score:\",accuracy_score(y_train,y_train_pred))"
   ]
  },
  {
   "cell_type": "code",
   "execution_count": 12,
   "metadata": {},
   "outputs": [],
   "source": [
    "y_pred=model.predict(x_test_vect)"
   ]
  },
  {
   "cell_type": "code",
   "execution_count": 13,
   "metadata": {},
   "outputs": [
    {
     "output_type": "execute_result",
     "data": {
      "text/plain": "array(['Pinot Noir', 'Malbec', 'Chardonnay', ..., 'Cabernet Sauvignon',\n       'Malbec', 'Cabernet Sauvignon'], dtype=object)"
     },
     "metadata": {},
     "execution_count": 13
    }
   ],
   "source": [
    "y_pred"
   ]
  },
  {
   "cell_type": "code",
   "execution_count": 15,
   "metadata": {},
   "outputs": [
    {
     "output_type": "execute_result",
     "data": {
      "text/plain": "              user_name    country  \\\n0           @paulgwine          US   \n1           @wineschach  Argentina   \n2               @vboone         US   \n3           @wineschach  Argentina   \n4          @kerinokeefe      Italy   \n...                 ...        ...   \n20660  @gordone_cellars         US   \n20661         @laurbuzz     France   \n20662     @mattkettmann         US   \n20663       @wineschach      Spain   \n20664               NaN         US   \n\n                                            review_title  \\\n0      Boedecker Cellars 2011 Athena Pinot Noir (Will...   \n1      Mendoza Vineyards 2012 Gran Reserva by Richard...   \n2                    Prime 2013 Chardonnay (Coombsville)   \n3      Bodega Cuarto Dominio 2012 Chento Vineyard Sel...   \n4               SassodiSole 2012  Brunello di Montalcino   \n...                                                  ...   \n20660  Yorkville Cellars 2013 Rennie Vineyard Caberne...   \n20661  Château Ribaute 2015 Senhal d'Aric Rosé (Corbi...   \n20662  Daou 2014 Reserve Cabernet Sauvignon (Paso Rob...   \n20663  Peñascal 2011 Tempranillo Rosé (Vino de la Tie...   \n20664  Langtry 2005 Tephra Ridge Vineyard Cabernet Sa...   \n\n                                      review_description  \\\n0      Nicely differentiated from the companion Stewa...   \n1      Charred, smoky, herbal aromas of blackberry tr...   \n2      Slightly sour and funky in earth, this is a re...   \n3      This concentrated, midnight-black Malbec deliv...   \n4      Earthy aromas suggesting grilled porcini, leat...   \n...                                                  ...   \n20660  Clearly focused and fruit-driven, this wine ha...   \n20661  Herbal tones of bay and rosemary are upfront o...   \n20662  Mocha cream, pencil shaving and dried herb aro...   \n20663  Loud citrus and berry aromas precede an overlo...   \n20664  With very ripe fruit and firm tannins, this mo...   \n\n                          designation  points  price              province  \\\n0                              Athena      88   35.0                Oregon   \n1      Gran Reserva by Richard Bonvin      90   60.0      Mendoza Province   \n2                                 NaN      87   38.0            California   \n3           Chento Vineyard Selection      91   20.0      Mendoza Province   \n4                                 NaN      90   49.0               Tuscany   \n...                               ...     ...    ...                   ...   \n20660                 Rennie Vineyard      91   34.0            California   \n20661                   Senhal d'Aric      84   20.0  Languedoc-Roussillon   \n20662                         Reserve      94   85.0            California   \n20663                     Tempranillo      80    9.0        Northern Spain   \n20664           Tephra Ridge Vineyard      87   40.0            California   \n\n                                   region_1           region_2  \\\n0                         Willamette Valley  Willamette Valley   \n1                                   Mendoza                NaN   \n2                               Coombsville               Napa   \n3                                   Mendoza                NaN   \n4                    Brunello di Montalcino                NaN   \n...                                     ...                ...   \n20660                   Yorkville Highlands        North Coast   \n20661                             Corbières                NaN   \n20662                           Paso Robles      Central Coast   \n20663  Vino de la Tierra de Castilla y León                NaN   \n20664                           Lake County                NaN   \n\n                      winery  \n0          Boedecker Cellars  \n1          Mendoza Vineyards  \n2                      Prime  \n3      Bodega Cuarto Dominio  \n4                SassodiSole  \n...                      ...  \n20660      Yorkville Cellars  \n20661        Château Ribaute  \n20662                   Daou  \n20663               Peñascal  \n20664                Langtry  \n\n[20665 rows x 11 columns]",
      "text/html": "<div>\n<style scoped>\n    .dataframe tbody tr th:only-of-type {\n        vertical-align: middle;\n    }\n\n    .dataframe tbody tr th {\n        vertical-align: top;\n    }\n\n    .dataframe thead th {\n        text-align: right;\n    }\n</style>\n<table border=\"1\" class=\"dataframe\">\n  <thead>\n    <tr style=\"text-align: right;\">\n      <th></th>\n      <th>user_name</th>\n      <th>country</th>\n      <th>review_title</th>\n      <th>review_description</th>\n      <th>designation</th>\n      <th>points</th>\n      <th>price</th>\n      <th>province</th>\n      <th>region_1</th>\n      <th>region_2</th>\n      <th>winery</th>\n    </tr>\n  </thead>\n  <tbody>\n    <tr>\n      <th>0</th>\n      <td>@paulgwine</td>\n      <td>US</td>\n      <td>Boedecker Cellars 2011 Athena Pinot Noir (Will...</td>\n      <td>Nicely differentiated from the companion Stewa...</td>\n      <td>Athena</td>\n      <td>88</td>\n      <td>35.0</td>\n      <td>Oregon</td>\n      <td>Willamette Valley</td>\n      <td>Willamette Valley</td>\n      <td>Boedecker Cellars</td>\n    </tr>\n    <tr>\n      <th>1</th>\n      <td>@wineschach</td>\n      <td>Argentina</td>\n      <td>Mendoza Vineyards 2012 Gran Reserva by Richard...</td>\n      <td>Charred, smoky, herbal aromas of blackberry tr...</td>\n      <td>Gran Reserva by Richard Bonvin</td>\n      <td>90</td>\n      <td>60.0</td>\n      <td>Mendoza Province</td>\n      <td>Mendoza</td>\n      <td>NaN</td>\n      <td>Mendoza Vineyards</td>\n    </tr>\n    <tr>\n      <th>2</th>\n      <td>@vboone</td>\n      <td>US</td>\n      <td>Prime 2013 Chardonnay (Coombsville)</td>\n      <td>Slightly sour and funky in earth, this is a re...</td>\n      <td>NaN</td>\n      <td>87</td>\n      <td>38.0</td>\n      <td>California</td>\n      <td>Coombsville</td>\n      <td>Napa</td>\n      <td>Prime</td>\n    </tr>\n    <tr>\n      <th>3</th>\n      <td>@wineschach</td>\n      <td>Argentina</td>\n      <td>Bodega Cuarto Dominio 2012 Chento Vineyard Sel...</td>\n      <td>This concentrated, midnight-black Malbec deliv...</td>\n      <td>Chento Vineyard Selection</td>\n      <td>91</td>\n      <td>20.0</td>\n      <td>Mendoza Province</td>\n      <td>Mendoza</td>\n      <td>NaN</td>\n      <td>Bodega Cuarto Dominio</td>\n    </tr>\n    <tr>\n      <th>4</th>\n      <td>@kerinokeefe</td>\n      <td>Italy</td>\n      <td>SassodiSole 2012  Brunello di Montalcino</td>\n      <td>Earthy aromas suggesting grilled porcini, leat...</td>\n      <td>NaN</td>\n      <td>90</td>\n      <td>49.0</td>\n      <td>Tuscany</td>\n      <td>Brunello di Montalcino</td>\n      <td>NaN</td>\n      <td>SassodiSole</td>\n    </tr>\n    <tr>\n      <th>...</th>\n      <td>...</td>\n      <td>...</td>\n      <td>...</td>\n      <td>...</td>\n      <td>...</td>\n      <td>...</td>\n      <td>...</td>\n      <td>...</td>\n      <td>...</td>\n      <td>...</td>\n      <td>...</td>\n    </tr>\n    <tr>\n      <th>20660</th>\n      <td>@gordone_cellars</td>\n      <td>US</td>\n      <td>Yorkville Cellars 2013 Rennie Vineyard Caberne...</td>\n      <td>Clearly focused and fruit-driven, this wine ha...</td>\n      <td>Rennie Vineyard</td>\n      <td>91</td>\n      <td>34.0</td>\n      <td>California</td>\n      <td>Yorkville Highlands</td>\n      <td>North Coast</td>\n      <td>Yorkville Cellars</td>\n    </tr>\n    <tr>\n      <th>20661</th>\n      <td>@laurbuzz</td>\n      <td>France</td>\n      <td>Château Ribaute 2015 Senhal d'Aric Rosé (Corbi...</td>\n      <td>Herbal tones of bay and rosemary are upfront o...</td>\n      <td>Senhal d'Aric</td>\n      <td>84</td>\n      <td>20.0</td>\n      <td>Languedoc-Roussillon</td>\n      <td>Corbières</td>\n      <td>NaN</td>\n      <td>Château Ribaute</td>\n    </tr>\n    <tr>\n      <th>20662</th>\n      <td>@mattkettmann</td>\n      <td>US</td>\n      <td>Daou 2014 Reserve Cabernet Sauvignon (Paso Rob...</td>\n      <td>Mocha cream, pencil shaving and dried herb aro...</td>\n      <td>Reserve</td>\n      <td>94</td>\n      <td>85.0</td>\n      <td>California</td>\n      <td>Paso Robles</td>\n      <td>Central Coast</td>\n      <td>Daou</td>\n    </tr>\n    <tr>\n      <th>20663</th>\n      <td>@wineschach</td>\n      <td>Spain</td>\n      <td>Peñascal 2011 Tempranillo Rosé (Vino de la Tie...</td>\n      <td>Loud citrus and berry aromas precede an overlo...</td>\n      <td>Tempranillo</td>\n      <td>80</td>\n      <td>9.0</td>\n      <td>Northern Spain</td>\n      <td>Vino de la Tierra de Castilla y León</td>\n      <td>NaN</td>\n      <td>Peñascal</td>\n    </tr>\n    <tr>\n      <th>20664</th>\n      <td>NaN</td>\n      <td>US</td>\n      <td>Langtry 2005 Tephra Ridge Vineyard Cabernet Sa...</td>\n      <td>With very ripe fruit and firm tannins, this mo...</td>\n      <td>Tephra Ridge Vineyard</td>\n      <td>87</td>\n      <td>40.0</td>\n      <td>California</td>\n      <td>Lake County</td>\n      <td>NaN</td>\n      <td>Langtry</td>\n    </tr>\n  </tbody>\n</table>\n<p>20665 rows × 11 columns</p>\n</div>"
     },
     "metadata": {},
     "execution_count": 15
    }
   ],
   "source": [
    "test_data=raw_test_data.copy()\n",
    "test_data"
   ]
  },
  {
   "cell_type": "code",
   "execution_count": 17,
   "metadata": {},
   "outputs": [],
   "source": [
    "test_data['variety']=y_pred"
   ]
  },
  {
   "cell_type": "code",
   "execution_count": 19,
   "metadata": {},
   "outputs": [],
   "source": [
    "test_data.to_csv(\"Test_data_with_prediction.csv\")"
   ]
  },
  {
   "cell_type": "code",
   "execution_count": null,
   "metadata": {},
   "outputs": [],
   "source": []
  }
 ],
 "metadata": {
  "language_info": {
   "codemirror_mode": {
    "name": "ipython",
    "version": 3
   },
   "file_extension": ".py",
   "mimetype": "text/x-python",
   "name": "python",
   "nbconvert_exporter": "python",
   "pygments_lexer": "ipython3",
   "version": "3.7.7-final"
  },
  "orig_nbformat": 2,
  "kernelspec": {
   "name": "python37764bit642e5d8b3ad04392bc311de90f776020",
   "display_name": "Python 3.7.7 64-bit"
  }
 },
 "nbformat": 4,
 "nbformat_minor": 2
}