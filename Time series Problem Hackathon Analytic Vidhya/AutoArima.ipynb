{
 "nbformat": 4,
 "nbformat_minor": 2,
 "metadata": {
  "language_info": {
   "name": "python",
   "codemirror_mode": {
    "name": "ipython",
    "version": 3
   },
   "version": "3.7.7-final"
  },
  "orig_nbformat": 2,
  "file_extension": ".py",
  "mimetype": "text/x-python",
  "name": "python",
  "npconvert_exporter": "python",
  "pygments_lexer": "ipython3",
  "version": 3,
  "kernelspec": {
   "name": "python37764bit642e5d8b3ad04392bc311de90f776020",
   "display_name": "Python 3.7.7 64-bit"
  }
 },
 "cells": [
  {
   "cell_type": "code",
   "execution_count": 2,
   "metadata": {},
   "outputs": [],
   "source": [
    "import numpy as np \n",
    "import pandas as pd \n",
    "import scipy \n",
    "import statsmodels.api as sm \n",
    "import matplotlib.pyplot as plt \n",
    "import seaborn as sns \n",
    "from statsmodels.tsa.arima_model import ARIMA\n",
    "import warnings \n",
    "sns.set()\n",
    "warnings.filterwarnings(\"ignore\")\n",
    "\n",
    "from pmdarima.arima import auto_arima "
   ]
  },
  {
   "cell_type": "code",
   "execution_count": 3,
   "metadata": {},
   "outputs": [
    {
     "output_type": "stream",
     "name": "stdout",
     "text": "ID          Datetime  Count\n0   0  25-08-2012 00:00      8\n1   1  25-08-2012 01:00      2\n2   2  25-08-2012 02:00      6\n3   3  25-08-2012 03:00      2\n4   4  25-08-2012 04:00      2\n"
    },
    {
     "output_type": "execute_result",
     "data": {
      "text/plain": "          ID          Datetime  Count\n18283  18283  25-09-2014 19:00    868\n18284  18284  25-09-2014 20:00    732\n18285  18285  25-09-2014 21:00    702\n18286  18286  25-09-2014 22:00    580\n18287  18287  25-09-2014 23:00    534",
      "text/html": "<div>\n<style scoped>\n    .dataframe tbody tr th:only-of-type {\n        vertical-align: middle;\n    }\n\n    .dataframe tbody tr th {\n        vertical-align: top;\n    }\n\n    .dataframe thead th {\n        text-align: right;\n    }\n</style>\n<table border=\"1\" class=\"dataframe\">\n  <thead>\n    <tr style=\"text-align: right;\">\n      <th></th>\n      <th>ID</th>\n      <th>Datetime</th>\n      <th>Count</th>\n    </tr>\n  </thead>\n  <tbody>\n    <tr>\n      <th>18283</th>\n      <td>18283</td>\n      <td>25-09-2014 19:00</td>\n      <td>868</td>\n    </tr>\n    <tr>\n      <th>18284</th>\n      <td>18284</td>\n      <td>25-09-2014 20:00</td>\n      <td>732</td>\n    </tr>\n    <tr>\n      <th>18285</th>\n      <td>18285</td>\n      <td>25-09-2014 21:00</td>\n      <td>702</td>\n    </tr>\n    <tr>\n      <th>18286</th>\n      <td>18286</td>\n      <td>25-09-2014 22:00</td>\n      <td>580</td>\n    </tr>\n    <tr>\n      <th>18287</th>\n      <td>18287</td>\n      <td>25-09-2014 23:00</td>\n      <td>534</td>\n    </tr>\n  </tbody>\n</table>\n</div>"
     },
     "metadata": {},
     "execution_count": 3
    }
   ],
   "source": [
    "raw_data=pd.read_csv(\"Train_data.csv\")\n",
    "print(raw_data.head())\n",
    "raw_data.tail()"
   ]
  },
  {
   "cell_type": "code",
   "execution_count": 4,
   "metadata": {},
   "outputs": [],
   "source": [
    "df=raw_data.copy()"
   ]
  },
  {
   "cell_type": "code",
   "execution_count": 5,
   "metadata": {},
   "outputs": [
    {
     "output_type": "stream",
     "name": "stdout",
     "text": "<class 'pandas.core.frame.DataFrame'>\nRangeIndex: 18288 entries, 0 to 18287\nData columns (total 3 columns):\n #   Column    Non-Null Count  Dtype \n---  ------    --------------  ----- \n 0   ID        18288 non-null  int64 \n 1   Datetime  18288 non-null  object\n 2   Count     18288 non-null  int64 \ndtypes: int64(2), object(1)\nmemory usage: 428.8+ KB\n"
    }
   ],
   "source": [
    "df.info()"
   ]
  },
  {
   "cell_type": "code",
   "execution_count": 6,
   "metadata": {},
   "outputs": [
    {
     "output_type": "execute_result",
     "data": {
      "text/plain": "                  Count\nDatetime               \n25-08-2012 00:00      8\n25-08-2012 01:00      2\n25-08-2012 02:00      6\n25-08-2012 03:00      2\n25-08-2012 04:00      2\n25-08-2012 05:00      2\n25-08-2012 06:00      2\n25-08-2012 07:00      2\n25-08-2012 08:00      6\n25-08-2012 09:00      2",
      "text/html": "<div>\n<style scoped>\n    .dataframe tbody tr th:only-of-type {\n        vertical-align: middle;\n    }\n\n    .dataframe tbody tr th {\n        vertical-align: top;\n    }\n\n    .dataframe thead th {\n        text-align: right;\n    }\n</style>\n<table border=\"1\" class=\"dataframe\">\n  <thead>\n    <tr style=\"text-align: right;\">\n      <th></th>\n      <th>Count</th>\n    </tr>\n    <tr>\n      <th>Datetime</th>\n      <th></th>\n    </tr>\n  </thead>\n  <tbody>\n    <tr>\n      <th>25-08-2012 00:00</th>\n      <td>8</td>\n    </tr>\n    <tr>\n      <th>25-08-2012 01:00</th>\n      <td>2</td>\n    </tr>\n    <tr>\n      <th>25-08-2012 02:00</th>\n      <td>6</td>\n    </tr>\n    <tr>\n      <th>25-08-2012 03:00</th>\n      <td>2</td>\n    </tr>\n    <tr>\n      <th>25-08-2012 04:00</th>\n      <td>2</td>\n    </tr>\n    <tr>\n      <th>25-08-2012 05:00</th>\n      <td>2</td>\n    </tr>\n    <tr>\n      <th>25-08-2012 06:00</th>\n      <td>2</td>\n    </tr>\n    <tr>\n      <th>25-08-2012 07:00</th>\n      <td>2</td>\n    </tr>\n    <tr>\n      <th>25-08-2012 08:00</th>\n      <td>6</td>\n    </tr>\n    <tr>\n      <th>25-08-2012 09:00</th>\n      <td>2</td>\n    </tr>\n  </tbody>\n</table>\n</div>"
     },
     "metadata": {},
     "execution_count": 6
    }
   ],
   "source": [
    "df.set_index(\"Datetime\",inplace=True)\n",
    "df.drop([\"ID\"],inplace=True,axis=1)\n",
    "df.head(10)"
   ]
  },
  {
   "cell_type": "code",
   "execution_count": 7,
   "metadata": {},
   "outputs": [
    {
     "output_type": "execute_result",
     "data": {
      "text/plain": "              Count\ncount  18288.000000\nmean     138.958115\nstd      153.467461\nmin        2.000000\n25%       22.000000\n50%       84.000000\n75%      210.000000\nmax     1244.000000",
      "text/html": "<div>\n<style scoped>\n    .dataframe tbody tr th:only-of-type {\n        vertical-align: middle;\n    }\n\n    .dataframe tbody tr th {\n        vertical-align: top;\n    }\n\n    .dataframe thead th {\n        text-align: right;\n    }\n</style>\n<table border=\"1\" class=\"dataframe\">\n  <thead>\n    <tr style=\"text-align: right;\">\n      <th></th>\n      <th>Count</th>\n    </tr>\n  </thead>\n  <tbody>\n    <tr>\n      <th>count</th>\n      <td>18288.000000</td>\n    </tr>\n    <tr>\n      <th>mean</th>\n      <td>138.958115</td>\n    </tr>\n    <tr>\n      <th>std</th>\n      <td>153.467461</td>\n    </tr>\n    <tr>\n      <th>min</th>\n      <td>2.000000</td>\n    </tr>\n    <tr>\n      <th>25%</th>\n      <td>22.000000</td>\n    </tr>\n    <tr>\n      <th>50%</th>\n      <td>84.000000</td>\n    </tr>\n    <tr>\n      <th>75%</th>\n      <td>210.000000</td>\n    </tr>\n    <tr>\n      <th>max</th>\n      <td>1244.000000</td>\n    </tr>\n  </tbody>\n</table>\n</div>"
     },
     "metadata": {},
     "execution_count": 7
    }
   ],
   "source": [
    "df.describe()"
   ]
  },
  {
   "cell_type": "code",
   "execution_count": 8,
   "metadata": {},
   "outputs": [
    {
     "output_type": "execute_result",
     "data": {
      "text/plain": "Count    0\ndtype: int64"
     },
     "metadata": {},
     "execution_count": 8
    }
   ],
   "source": [
    "df.isnull().sum()"
   ]
  },
  {
   "cell_type": "code",
   "execution_count": 9,
   "metadata": {},
   "outputs": [
    {
     "output_type": "execute_result",
     "data": {
      "text/plain": "                  Count\nDatetime               \n25-08-2012 00:00      8\n25-08-2012 01:00      2\n25-08-2012 02:00      6\n25-08-2012 03:00      2\n25-08-2012 04:00      2\n...                 ...\n25-09-2014 19:00    868\n25-09-2014 20:00    732\n25-09-2014 21:00    702\n25-09-2014 22:00    580\n25-09-2014 23:00    534\n\n[18288 rows x 1 columns]",
      "text/html": "<div>\n<style scoped>\n    .dataframe tbody tr th:only-of-type {\n        vertical-align: middle;\n    }\n\n    .dataframe tbody tr th {\n        vertical-align: top;\n    }\n\n    .dataframe thead th {\n        text-align: right;\n    }\n</style>\n<table border=\"1\" class=\"dataframe\">\n  <thead>\n    <tr style=\"text-align: right;\">\n      <th></th>\n      <th>Count</th>\n    </tr>\n    <tr>\n      <th>Datetime</th>\n      <th></th>\n    </tr>\n  </thead>\n  <tbody>\n    <tr>\n      <th>25-08-2012 00:00</th>\n      <td>8</td>\n    </tr>\n    <tr>\n      <th>25-08-2012 01:00</th>\n      <td>2</td>\n    </tr>\n    <tr>\n      <th>25-08-2012 02:00</th>\n      <td>6</td>\n    </tr>\n    <tr>\n      <th>25-08-2012 03:00</th>\n      <td>2</td>\n    </tr>\n    <tr>\n      <th>25-08-2012 04:00</th>\n      <td>2</td>\n    </tr>\n    <tr>\n      <th>...</th>\n      <td>...</td>\n    </tr>\n    <tr>\n      <th>25-09-2014 19:00</th>\n      <td>868</td>\n    </tr>\n    <tr>\n      <th>25-09-2014 20:00</th>\n      <td>732</td>\n    </tr>\n    <tr>\n      <th>25-09-2014 21:00</th>\n      <td>702</td>\n    </tr>\n    <tr>\n      <th>25-09-2014 22:00</th>\n      <td>580</td>\n    </tr>\n    <tr>\n      <th>25-09-2014 23:00</th>\n      <td>534</td>\n    </tr>\n  </tbody>\n</table>\n<p>18288 rows × 1 columns</p>\n</div>"
     },
     "metadata": {},
     "execution_count": 9
    }
   ],
   "source": [
    "df.asfreq('H')\n",
    "df "
   ]
  },
  {
   "cell_type": "code",
   "execution_count": 10,
   "metadata": {},
   "outputs": [
    {
     "output_type": "execute_result",
     "data": {
      "text/plain": "\"model=auto_arima(df.Count[1:])\\nmodel\\n\\nARIMA(maxiter=50, method='lbfgs', order=(3, 1, 3), out_of_sample_size=0,\\n      scoring='mse', scoring_args=None, seasonal_order=(0, 0, 0, 0),\\n      start_params=None, suppress_warnings=False, trend=None,\\n      with_intercept=True)\""
     },
     "metadata": {},
     "execution_count": 10
    }
   ],
   "source": [
    "'''model=auto_arima(df.Count[1:])\n",
    "model\n",
    "\n",
    "ARIMA(maxiter=50, method='lbfgs', order=(3, 1, 3), out_of_sample_size=0,\n",
    "      scoring='mse', scoring_args=None, seasonal_order=(0, 0, 0, 0),\n",
    "      start_params=None, suppress_warnings=False, trend=None,\n",
    "      with_intercept=True)'''"
   ]
  },
  {
   "cell_type": "code",
   "execution_count": 11,
   "metadata": {},
   "outputs": [
    {
     "output_type": "execute_result",
     "data": {
      "text/plain": "'model.summary()\\n\\nSARIMAX Results\\nDep. Variable:\\ty\\tNo. Observations:\\t18287\\nModel:\\tSARIMAX(3, 1, 3)\\tLog Likelihood\\t-93063.131\\nDate:\\tSat, 18 Apr 2020\\tAIC\\t186142.261\\nTime:\\t01:02:00\\tBIC\\t186204.773\\nSample:\\t0\\tHQIC\\t186162.802\\n- 18287\\t\\t\\nCovariance Type:\\topg\\t\\t\\ncoef\\tstd err\\tz\\tP>|z|\\t[0.025\\t0.975]\\nintercept\\t0.0079\\t0.005\\t1.502\\t0.133\\t-0.002\\t0.018\\nar.L1\\t0.7302\\t0.011\\t64.744\\t0.000\\t0.708\\t0.752\\nar.L2\\t0.9162\\t0.013\\t73.261\\t0.000\\t0.892\\t0.941\\nar.L3\\t-0.7580\\t0.010\\t-78.531\\t0.000\\t-0.777\\t-0.739\\nma.L1\\t-0.7370\\t0.013\\t-58.934\\t0.000\\t-0.761\\t-0.712\\nma.L2\\t-0.9581\\t0.014\\t-69.095\\t0.000\\t-0.985\\t-0.931\\nma.L3\\t0.7099\\t0.012\\t59.332\\t0.000\\t0.686\\t0.733\\nsigma2\\t1578.0484\\t6.026\\t261.889\\t0.000\\t1566.238\\t1589.858\\nLjung-Box (Q):\\t3376.65\\tJarque-Bera (JB):\\t333589.20\\nProb(Q):\\t0.00\\tProb(JB):\\t0.00\\nHeteroskedasticity (H):\\t33.87\\tSkew:\\t2.01\\nProb(H) (two-sided):\\t0.00\\tKurtosis:\\t23.53\\n'"
     },
     "metadata": {},
     "execution_count": 11
    }
   ],
   "source": [
    "'''model.summary()\n",
    "\n",
    "SARIMAX Results\n",
    "Dep. Variable:\ty\tNo. Observations:\t18287\n",
    "Model:\tSARIMAX(3, 1, 3)\tLog Likelihood\t-93063.131\n",
    "Date:\tSat, 18 Apr 2020\tAIC\t186142.261\n",
    "Time:\t01:02:00\tBIC\t186204.773\n",
    "Sample:\t0\tHQIC\t186162.802\n",
    "- 18287\t\t\n",
    "Covariance Type:\topg\t\t\n",
    "coef\tstd err\tz\tP>|z|\t[0.025\t0.975]\n",
    "intercept\t0.0079\t0.005\t1.502\t0.133\t-0.002\t0.018\n",
    "ar.L1\t0.7302\t0.011\t64.744\t0.000\t0.708\t0.752\n",
    "ar.L2\t0.9162\t0.013\t73.261\t0.000\t0.892\t0.941\n",
    "ar.L3\t-0.7580\t0.010\t-78.531\t0.000\t-0.777\t-0.739\n",
    "ma.L1\t-0.7370\t0.013\t-58.934\t0.000\t-0.761\t-0.712\n",
    "ma.L2\t-0.9581\t0.014\t-69.095\t0.000\t-0.985\t-0.931\n",
    "ma.L3\t0.7099\t0.012\t59.332\t0.000\t0.686\t0.733\n",
    "sigma2\t1578.0484\t6.026\t261.889\t0.000\t1566.238\t1589.858\n",
    "Ljung-Box (Q):\t3376.65\tJarque-Bera (JB):\t333589.20\n",
    "Prob(Q):\t0.00\tProb(JB):\t0.00\n",
    "Heteroskedasticity (H):\t33.87\tSkew:\t2.01\n",
    "Prob(H) (two-sided):\t0.00\tKurtosis:\t23.53\n",
    "'''"
   ]
  },
  {
   "cell_type": "code",
   "execution_count": 12,
   "metadata": {},
   "outputs": [],
   "source": [
    "model2 = auto_arima(df.Count[1:],maxiter = 50, alpha = 0.05, n_jobs = -1, information_criterion = 'aic',out_of_sample = int(len(df)*0.2))"
   ]
  },
  {
   "cell_type": "code",
   "execution_count": 13,
   "metadata": {},
   "outputs": [
    {
     "output_type": "execute_result",
     "data": {
      "text/plain": "<class 'statsmodels.iolib.summary.Summary'>\n\"\"\"\n                               SARIMAX Results                                \n==============================================================================\nDep. Variable:                      y   No. Observations:                18287\nModel:               SARIMAX(3, 1, 3)   Log Likelihood              -93063.131\nDate:                Sat, 18 Apr 2020   AIC                         186142.261\nTime:                        21:12:03   BIC                         186204.773\nSample:                             0   HQIC                        186162.802\n                              - 18287                                         \nCovariance Type:                  opg                                         \n==============================================================================\n                 coef    std err          z      P>|z|      [0.025      0.975]\n------------------------------------------------------------------------------\nintercept      0.0079      0.005      1.502      0.133      -0.002       0.018\nar.L1          0.7302      0.011     64.744      0.000       0.708       0.752\nar.L2          0.9162      0.013     73.261      0.000       0.892       0.941\nar.L3         -0.7580      0.010    -78.531      0.000      -0.777      -0.739\nma.L1         -0.7370      0.013    -58.934      0.000      -0.761      -0.712\nma.L2         -0.9581      0.014    -69.095      0.000      -0.985      -0.931\nma.L3          0.7099      0.012     59.332      0.000       0.686       0.733\nsigma2      1578.0484      6.026    261.889      0.000    1566.238    1589.858\n===================================================================================\nLjung-Box (Q):                     3376.65   Jarque-Bera (JB):            333589.20\nProb(Q):                              0.00   Prob(JB):                         0.00\nHeteroskedasticity (H):              33.87   Skew:                             2.01\nProb(H) (two-sided):                  0.00   Kurtosis:                        23.53\n===================================================================================\n\nWarnings:\n[1] Covariance matrix calculated using the outer product of gradients (complex-step).\n\"\"\"",
      "text/html": "<table class=\"simpletable\">\n<caption>SARIMAX Results</caption>\n<tr>\n  <th>Dep. Variable:</th>           <td>y</td>        <th>  No. Observations:  </th>    <td>18287</td>  \n</tr>\n<tr>\n  <th>Model:</th>           <td>SARIMAX(3, 1, 3)</td> <th>  Log Likelihood     </th> <td>-93063.131</td>\n</tr>\n<tr>\n  <th>Date:</th>            <td>Sat, 18 Apr 2020</td> <th>  AIC                </th> <td>186142.261</td>\n</tr>\n<tr>\n  <th>Time:</th>                <td>21:12:03</td>     <th>  BIC                </th> <td>186204.773</td>\n</tr>\n<tr>\n  <th>Sample:</th>                  <td>0</td>        <th>  HQIC               </th> <td>186162.802</td>\n</tr>\n<tr>\n  <th></th>                     <td> - 18287</td>     <th>                     </th>      <td> </td>    \n</tr>\n<tr>\n  <th>Covariance Type:</th>        <td>opg</td>       <th>                     </th>      <td> </td>    \n</tr>\n</table>\n<table class=\"simpletable\">\n<tr>\n      <td></td>         <th>coef</th>     <th>std err</th>      <th>z</th>      <th>P>|z|</th>  <th>[0.025</th>    <th>0.975]</th>  \n</tr>\n<tr>\n  <th>intercept</th> <td>    0.0079</td> <td>    0.005</td> <td>    1.502</td> <td> 0.133</td> <td>   -0.002</td> <td>    0.018</td>\n</tr>\n<tr>\n  <th>ar.L1</th>     <td>    0.7302</td> <td>    0.011</td> <td>   64.744</td> <td> 0.000</td> <td>    0.708</td> <td>    0.752</td>\n</tr>\n<tr>\n  <th>ar.L2</th>     <td>    0.9162</td> <td>    0.013</td> <td>   73.261</td> <td> 0.000</td> <td>    0.892</td> <td>    0.941</td>\n</tr>\n<tr>\n  <th>ar.L3</th>     <td>   -0.7580</td> <td>    0.010</td> <td>  -78.531</td> <td> 0.000</td> <td>   -0.777</td> <td>   -0.739</td>\n</tr>\n<tr>\n  <th>ma.L1</th>     <td>   -0.7370</td> <td>    0.013</td> <td>  -58.934</td> <td> 0.000</td> <td>   -0.761</td> <td>   -0.712</td>\n</tr>\n<tr>\n  <th>ma.L2</th>     <td>   -0.9581</td> <td>    0.014</td> <td>  -69.095</td> <td> 0.000</td> <td>   -0.985</td> <td>   -0.931</td>\n</tr>\n<tr>\n  <th>ma.L3</th>     <td>    0.7099</td> <td>    0.012</td> <td>   59.332</td> <td> 0.000</td> <td>    0.686</td> <td>    0.733</td>\n</tr>\n<tr>\n  <th>sigma2</th>    <td> 1578.0484</td> <td>    6.026</td> <td>  261.889</td> <td> 0.000</td> <td> 1566.238</td> <td> 1589.858</td>\n</tr>\n</table>\n<table class=\"simpletable\">\n<tr>\n  <th>Ljung-Box (Q):</th>          <td>3376.65</td> <th>  Jarque-Bera (JB):  </th> <td>333589.20</td>\n</tr>\n<tr>\n  <th>Prob(Q):</th>                 <td>0.00</td>   <th>  Prob(JB):          </th>   <td>0.00</td>   \n</tr>\n<tr>\n  <th>Heteroskedasticity (H):</th>  <td>33.87</td>  <th>  Skew:              </th>   <td>2.01</td>   \n</tr>\n<tr>\n  <th>Prob(H) (two-sided):</th>     <td>0.00</td>   <th>  Kurtosis:          </th>   <td>23.53</td>  \n</tr>\n</table><br/><br/>Warnings:<br/>[1] Covariance matrix calculated using the outer product of gradients (complex-step)."
     },
     "metadata": {},
     "execution_count": 13
    }
   ],
   "source": [
    "model2.summary()"
   ]
  },
  {
   "cell_type": "code",
   "execution_count": 14,
   "metadata": {},
   "outputs": [],
   "source": [
    "df.to_csv(\"Train_data_preprocessed.csv\",index=True)"
   ]
  },
  {
   "cell_type": "code",
   "execution_count": null,
   "metadata": {},
   "outputs": [],
   "source": []
  }
 ]
}