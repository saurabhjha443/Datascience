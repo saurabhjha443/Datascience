{
 "nbformat": 4,
 "nbformat_minor": 2,
 "metadata": {
  "language_info": {
   "name": "python",
   "codemirror_mode": {
    "name": "ipython",
    "version": 3
   },
   "version": "3.7.7-final"
  },
  "orig_nbformat": 2,
  "file_extension": ".py",
  "mimetype": "text/x-python",
  "name": "python",
  "npconvert_exporter": "python",
  "pygments_lexer": "ipython3",
  "version": 3,
  "kernelspec": {
   "name": "python37764bit642e5d8b3ad04392bc311de90f776020",
   "display_name": "Python 3.7.7 64-bit"
  }
 },
 "cells": [
  {
   "cell_type": "code",
   "execution_count": 680,
   "metadata": {},
   "outputs": [],
   "source": [
    "import pandas as pd \n",
    "import numpy as np \n",
    "from sklearn.model_selection import train_test_split\n",
    "from sklearn.linear_model import LinearRegression "
   ]
  },
  {
   "cell_type": "code",
   "execution_count": 681,
   "metadata": {},
   "outputs": [],
   "source": [
    "rawdata=pd.read_csv(\"Proccessed_data2.csv\")"
   ]
  },
  {
   "cell_type": "code",
   "execution_count": 682,
   "metadata": {},
   "outputs": [
    {
     "output_type": "execute_result",
     "data": {
      "text/plain": "  Item_Identifier  Item_Weight  Item_Visibility  Item_MRP Outlet_Identifier  \\\n0           FDA15         9.30         0.016047  249.8092            OUT049   \n1           DRC01         5.92         0.019278   48.2692            OUT018   \n2           FDN15        17.50         0.016760  141.6180            OUT049   \n3           FDX07        19.20         0.000000  182.0950            OUT010   \n4           NCD19         8.93         0.000000   53.8614            OUT013   \n\n   Years of Outlet_Service  Item_Outlet_Sales  Outlet  Item_Fat_Content_0  \\\n0                       21          3735.1380       9                   0   \n1                       11           443.4228       3                   1   \n2                       21          2097.2700       9                   0   \n3                       22           732.3800       0                   1   \n4                       33           994.7052       1                   0   \n\n   Item_Fat_Content_1  ...  Outlet_Size_0  Outlet_Size_1  Outlet_Size_2  \\\n0                   1  ...              0              1              0   \n1                   0  ...              0              1              0   \n2                   1  ...              0              1              0   \n3                   0  ...              1              0              0   \n4                   1  ...              1              0              0   \n\n   Outlet_Location_Type_0  Outlet_Location_Type_1  Outlet_Location_Type_2  \\\n0                       1                       0                       0   \n1                       0                       0                       1   \n2                       1                       0                       0   \n3                       0                       0                       1   \n4                       0                       0                       1   \n\n   Outlet_Type_0  Outlet_Type_1  Outlet_Type_2  Outlet_Type_3  \n0              0              1              0              0  \n1              0              0              1              0  \n2              0              1              0              0  \n3              1              0              0              0  \n4              0              1              0              0  \n\n[5 rows x 36 columns]",
      "text/html": "<div>\n<style scoped>\n    .dataframe tbody tr th:only-of-type {\n        vertical-align: middle;\n    }\n\n    .dataframe tbody tr th {\n        vertical-align: top;\n    }\n\n    .dataframe thead th {\n        text-align: right;\n    }\n</style>\n<table border=\"1\" class=\"dataframe\">\n  <thead>\n    <tr style=\"text-align: right;\">\n      <th></th>\n      <th>Item_Identifier</th>\n      <th>Item_Weight</th>\n      <th>Item_Visibility</th>\n      <th>Item_MRP</th>\n      <th>Outlet_Identifier</th>\n      <th>Years of Outlet_Service</th>\n      <th>Item_Outlet_Sales</th>\n      <th>Outlet</th>\n      <th>Item_Fat_Content_0</th>\n      <th>Item_Fat_Content_1</th>\n      <th>...</th>\n      <th>Outlet_Size_0</th>\n      <th>Outlet_Size_1</th>\n      <th>Outlet_Size_2</th>\n      <th>Outlet_Location_Type_0</th>\n      <th>Outlet_Location_Type_1</th>\n      <th>Outlet_Location_Type_2</th>\n      <th>Outlet_Type_0</th>\n      <th>Outlet_Type_1</th>\n      <th>Outlet_Type_2</th>\n      <th>Outlet_Type_3</th>\n    </tr>\n  </thead>\n  <tbody>\n    <tr>\n      <th>0</th>\n      <td>FDA15</td>\n      <td>9.30</td>\n      <td>0.016047</td>\n      <td>249.8092</td>\n      <td>OUT049</td>\n      <td>21</td>\n      <td>3735.1380</td>\n      <td>9</td>\n      <td>0</td>\n      <td>1</td>\n      <td>...</td>\n      <td>0</td>\n      <td>1</td>\n      <td>0</td>\n      <td>1</td>\n      <td>0</td>\n      <td>0</td>\n      <td>0</td>\n      <td>1</td>\n      <td>0</td>\n      <td>0</td>\n    </tr>\n    <tr>\n      <th>1</th>\n      <td>DRC01</td>\n      <td>5.92</td>\n      <td>0.019278</td>\n      <td>48.2692</td>\n      <td>OUT018</td>\n      <td>11</td>\n      <td>443.4228</td>\n      <td>3</td>\n      <td>1</td>\n      <td>0</td>\n      <td>...</td>\n      <td>0</td>\n      <td>1</td>\n      <td>0</td>\n      <td>0</td>\n      <td>0</td>\n      <td>1</td>\n      <td>0</td>\n      <td>0</td>\n      <td>1</td>\n      <td>0</td>\n    </tr>\n    <tr>\n      <th>2</th>\n      <td>FDN15</td>\n      <td>17.50</td>\n      <td>0.016760</td>\n      <td>141.6180</td>\n      <td>OUT049</td>\n      <td>21</td>\n      <td>2097.2700</td>\n      <td>9</td>\n      <td>0</td>\n      <td>1</td>\n      <td>...</td>\n      <td>0</td>\n      <td>1</td>\n      <td>0</td>\n      <td>1</td>\n      <td>0</td>\n      <td>0</td>\n      <td>0</td>\n      <td>1</td>\n      <td>0</td>\n      <td>0</td>\n    </tr>\n    <tr>\n      <th>3</th>\n      <td>FDX07</td>\n      <td>19.20</td>\n      <td>0.000000</td>\n      <td>182.0950</td>\n      <td>OUT010</td>\n      <td>22</td>\n      <td>732.3800</td>\n      <td>0</td>\n      <td>1</td>\n      <td>0</td>\n      <td>...</td>\n      <td>1</td>\n      <td>0</td>\n      <td>0</td>\n      <td>0</td>\n      <td>0</td>\n      <td>1</td>\n      <td>1</td>\n      <td>0</td>\n      <td>0</td>\n      <td>0</td>\n    </tr>\n    <tr>\n      <th>4</th>\n      <td>NCD19</td>\n      <td>8.93</td>\n      <td>0.000000</td>\n      <td>53.8614</td>\n      <td>OUT013</td>\n      <td>33</td>\n      <td>994.7052</td>\n      <td>1</td>\n      <td>0</td>\n      <td>1</td>\n      <td>...</td>\n      <td>1</td>\n      <td>0</td>\n      <td>0</td>\n      <td>0</td>\n      <td>0</td>\n      <td>1</td>\n      <td>0</td>\n      <td>1</td>\n      <td>0</td>\n      <td>0</td>\n    </tr>\n  </tbody>\n</table>\n<p>5 rows × 36 columns</p>\n</div>"
     },
     "metadata": {},
     "execution_count": 682
    }
   ],
   "source": [
    "data=rawdata.copy()\n",
    "data.head()"
   ]
  },
  {
   "cell_type": "code",
   "execution_count": 683,
   "metadata": {},
   "outputs": [
    {
     "output_type": "execute_result",
     "data": {
      "text/plain": "     Item_Identifier Outlet_Identifier\n0              FDA15            OUT049\n1              DRC01            OUT018\n2              FDN15            OUT049\n3              FDX07            OUT010\n4              NCD19            OUT013\n...              ...               ...\n8518           FDF22            OUT013\n8519           FDS36            OUT045\n8520           NCJ29            OUT035\n8521           FDN46            OUT018\n8522           DRG01            OUT046\n\n[8523 rows x 2 columns]",
      "text/html": "<div>\n<style scoped>\n    .dataframe tbody tr th:only-of-type {\n        vertical-align: middle;\n    }\n\n    .dataframe tbody tr th {\n        vertical-align: top;\n    }\n\n    .dataframe thead th {\n        text-align: right;\n    }\n</style>\n<table border=\"1\" class=\"dataframe\">\n  <thead>\n    <tr style=\"text-align: right;\">\n      <th></th>\n      <th>Item_Identifier</th>\n      <th>Outlet_Identifier</th>\n    </tr>\n  </thead>\n  <tbody>\n    <tr>\n      <th>0</th>\n      <td>FDA15</td>\n      <td>OUT049</td>\n    </tr>\n    <tr>\n      <th>1</th>\n      <td>DRC01</td>\n      <td>OUT018</td>\n    </tr>\n    <tr>\n      <th>2</th>\n      <td>FDN15</td>\n      <td>OUT049</td>\n    </tr>\n    <tr>\n      <th>3</th>\n      <td>FDX07</td>\n      <td>OUT010</td>\n    </tr>\n    <tr>\n      <th>4</th>\n      <td>NCD19</td>\n      <td>OUT013</td>\n    </tr>\n    <tr>\n      <th>...</th>\n      <td>...</td>\n      <td>...</td>\n    </tr>\n    <tr>\n      <th>8518</th>\n      <td>FDF22</td>\n      <td>OUT013</td>\n    </tr>\n    <tr>\n      <th>8519</th>\n      <td>FDS36</td>\n      <td>OUT045</td>\n    </tr>\n    <tr>\n      <th>8520</th>\n      <td>NCJ29</td>\n      <td>OUT035</td>\n    </tr>\n    <tr>\n      <th>8521</th>\n      <td>FDN46</td>\n      <td>OUT018</td>\n    </tr>\n    <tr>\n      <th>8522</th>\n      <td>DRG01</td>\n      <td>OUT046</td>\n    </tr>\n  </tbody>\n</table>\n<p>8523 rows × 2 columns</p>\n</div>"
     },
     "metadata": {},
     "execution_count": 683
    }
   ],
   "source": [
    "IDcol=data[[\"Item_Identifier\",\"Outlet_Identifier\"]]\n",
    "IDcol"
   ]
  },
  {
   "cell_type": "code",
   "execution_count": 684,
   "metadata": {},
   "outputs": [],
   "source": [
    "X=data.drop([\"Item_Identifier\",\"Outlet_Identifier\",\"Item_Outlet_Sales\"],axis=1)\n",
    "Y=data[\"Item_Outlet_Sales\"]"
   ]
  },
  {
   "cell_type": "code",
   "execution_count": 685,
   "metadata": {},
   "outputs": [
    {
     "output_type": "execute_result",
     "data": {
      "text/plain": "   Item_Weight  Item_Visibility  Item_MRP  Years of Outlet_Service  Outlet  \\\n0         9.30         0.016047  249.8092                       21       9   \n1         5.92         0.019278   48.2692                       11       3   \n2        17.50         0.016760  141.6180                       21       9   \n3        19.20         0.000000  182.0950                       22       0   \n4         8.93         0.000000   53.8614                       33       1   \n\n   Item_Fat_Content_0  Item_Fat_Content_1  Item_Type_0  Item_Type_1  \\\n0                   0                   1            0            0   \n1                   1                   0            0            0   \n2                   0                   1            0            0   \n3                   1                   0            0            0   \n4                   0                   1            0            0   \n\n   Item_Type_2  ...  Outlet_Size_0  Outlet_Size_1  Outlet_Size_2  \\\n0            0  ...              0              1              0   \n1            0  ...              0              1              0   \n2            0  ...              0              1              0   \n3            0  ...              1              0              0   \n4            0  ...              1              0              0   \n\n   Outlet_Location_Type_0  Outlet_Location_Type_1  Outlet_Location_Type_2  \\\n0                       1                       0                       0   \n1                       0                       0                       1   \n2                       1                       0                       0   \n3                       0                       0                       1   \n4                       0                       0                       1   \n\n   Outlet_Type_0  Outlet_Type_1  Outlet_Type_2  Outlet_Type_3  \n0              0              1              0              0  \n1              0              0              1              0  \n2              0              1              0              0  \n3              1              0              0              0  \n4              0              1              0              0  \n\n[5 rows x 33 columns]",
      "text/html": "<div>\n<style scoped>\n    .dataframe tbody tr th:only-of-type {\n        vertical-align: middle;\n    }\n\n    .dataframe tbody tr th {\n        vertical-align: top;\n    }\n\n    .dataframe thead th {\n        text-align: right;\n    }\n</style>\n<table border=\"1\" class=\"dataframe\">\n  <thead>\n    <tr style=\"text-align: right;\">\n      <th></th>\n      <th>Item_Weight</th>\n      <th>Item_Visibility</th>\n      <th>Item_MRP</th>\n      <th>Years of Outlet_Service</th>\n      <th>Outlet</th>\n      <th>Item_Fat_Content_0</th>\n      <th>Item_Fat_Content_1</th>\n      <th>Item_Type_0</th>\n      <th>Item_Type_1</th>\n      <th>Item_Type_2</th>\n      <th>...</th>\n      <th>Outlet_Size_0</th>\n      <th>Outlet_Size_1</th>\n      <th>Outlet_Size_2</th>\n      <th>Outlet_Location_Type_0</th>\n      <th>Outlet_Location_Type_1</th>\n      <th>Outlet_Location_Type_2</th>\n      <th>Outlet_Type_0</th>\n      <th>Outlet_Type_1</th>\n      <th>Outlet_Type_2</th>\n      <th>Outlet_Type_3</th>\n    </tr>\n  </thead>\n  <tbody>\n    <tr>\n      <th>0</th>\n      <td>9.30</td>\n      <td>0.016047</td>\n      <td>249.8092</td>\n      <td>21</td>\n      <td>9</td>\n      <td>0</td>\n      <td>1</td>\n      <td>0</td>\n      <td>0</td>\n      <td>0</td>\n      <td>...</td>\n      <td>0</td>\n      <td>1</td>\n      <td>0</td>\n      <td>1</td>\n      <td>0</td>\n      <td>0</td>\n      <td>0</td>\n      <td>1</td>\n      <td>0</td>\n      <td>0</td>\n    </tr>\n    <tr>\n      <th>1</th>\n      <td>5.92</td>\n      <td>0.019278</td>\n      <td>48.2692</td>\n      <td>11</td>\n      <td>3</td>\n      <td>1</td>\n      <td>0</td>\n      <td>0</td>\n      <td>0</td>\n      <td>0</td>\n      <td>...</td>\n      <td>0</td>\n      <td>1</td>\n      <td>0</td>\n      <td>0</td>\n      <td>0</td>\n      <td>1</td>\n      <td>0</td>\n      <td>0</td>\n      <td>1</td>\n      <td>0</td>\n    </tr>\n    <tr>\n      <th>2</th>\n      <td>17.50</td>\n      <td>0.016760</td>\n      <td>141.6180</td>\n      <td>21</td>\n      <td>9</td>\n      <td>0</td>\n      <td>1</td>\n      <td>0</td>\n      <td>0</td>\n      <td>0</td>\n      <td>...</td>\n      <td>0</td>\n      <td>1</td>\n      <td>0</td>\n      <td>1</td>\n      <td>0</td>\n      <td>0</td>\n      <td>0</td>\n      <td>1</td>\n      <td>0</td>\n      <td>0</td>\n    </tr>\n    <tr>\n      <th>3</th>\n      <td>19.20</td>\n      <td>0.000000</td>\n      <td>182.0950</td>\n      <td>22</td>\n      <td>0</td>\n      <td>1</td>\n      <td>0</td>\n      <td>0</td>\n      <td>0</td>\n      <td>0</td>\n      <td>...</td>\n      <td>1</td>\n      <td>0</td>\n      <td>0</td>\n      <td>0</td>\n      <td>0</td>\n      <td>1</td>\n      <td>1</td>\n      <td>0</td>\n      <td>0</td>\n      <td>0</td>\n    </tr>\n    <tr>\n      <th>4</th>\n      <td>8.93</td>\n      <td>0.000000</td>\n      <td>53.8614</td>\n      <td>33</td>\n      <td>1</td>\n      <td>0</td>\n      <td>1</td>\n      <td>0</td>\n      <td>0</td>\n      <td>0</td>\n      <td>...</td>\n      <td>1</td>\n      <td>0</td>\n      <td>0</td>\n      <td>0</td>\n      <td>0</td>\n      <td>1</td>\n      <td>0</td>\n      <td>1</td>\n      <td>0</td>\n      <td>0</td>\n    </tr>\n  </tbody>\n</table>\n<p>5 rows × 33 columns</p>\n</div>"
     },
     "metadata": {},
     "execution_count": 685
    }
   ],
   "source": [
    "X.head()"
   ]
  },
  {
   "cell_type": "code",
   "execution_count": 686,
   "metadata": {},
   "outputs": [
    {
     "output_type": "execute_result",
     "data": {
      "text/plain": "LinearRegression(copy_X=True, fit_intercept=True, n_jobs=-1, normalize=False)"
     },
     "metadata": {},
     "execution_count": 686
    }
   ],
   "source": [
    "model=LinearRegression(n_jobs=-1)\n",
    "model.fit(X,Y)"
   ]
  },
  {
   "cell_type": "code",
   "execution_count": 687,
   "metadata": {},
   "outputs": [
    {
     "output_type": "execute_result",
     "data": {
      "text/plain": "  Item_Identifier  Item_Weight  Item_Fat_Content  Item_Visibility  Item_MRP  \\\n0           FDW58    20.750000                 1         0.007565  107.8622   \n1           FDW14     8.300000                 0         0.038428   87.3198   \n2           NCN55    14.600000                 1         0.099575  241.7538   \n3           FDQ58     7.315000                 1         0.015388  155.0340   \n4           FDY38    12.695633                 0         0.118599  234.2300   \n\n  Outlet_Identifier  Years of Outlet_Service  Outlet  Item_Type_0  \\\n0            OUT049                       21       9            0   \n1            OUT017                       13       2            0   \n2            OUT010                       22       0            0   \n3            OUT017                       13       2            0   \n4            OUT027                       35       5            0   \n\n   Item_Type_1  ...  Outlet_Size_High  Outlet_Size_Medium  Outlet_Size_Small  \\\n0            0  ...                 0                   1                  0   \n1            0  ...                 0                   1                  0   \n2            0  ...                 0                   1                  0   \n3            0  ...                 0                   1                  0   \n4            0  ...                 0                   1                  0   \n\n   Outlet_Location_Type_Tier 1  Outlet_Location_Type_Tier 2  \\\n0                            1                            0   \n1                            0                            1   \n2                            0                            0   \n3                            0                            1   \n4                            0                            0   \n\n   Outlet_Location_Type_Tier 3  Outlet_Type_Grocery Store  \\\n0                            0                          0   \n1                            0                          0   \n2                            1                          1   \n3                            0                          0   \n4                            1                          0   \n\n   Outlet_Type_Supermarket Type1  Outlet_Type_Supermarket Type2  \\\n0                              1                              0   \n1                              1                              0   \n2                              0                              0   \n3                              1                              0   \n4                              0                              0   \n\n   Outlet_Type_Supermarket Type3  \n0                              0  \n1                              0  \n2                              0  \n3                              0  \n4                              1  \n\n[5 rows x 34 columns]",
      "text/html": "<div>\n<style scoped>\n    .dataframe tbody tr th:only-of-type {\n        vertical-align: middle;\n    }\n\n    .dataframe tbody tr th {\n        vertical-align: top;\n    }\n\n    .dataframe thead th {\n        text-align: right;\n    }\n</style>\n<table border=\"1\" class=\"dataframe\">\n  <thead>\n    <tr style=\"text-align: right;\">\n      <th></th>\n      <th>Item_Identifier</th>\n      <th>Item_Weight</th>\n      <th>Item_Fat_Content</th>\n      <th>Item_Visibility</th>\n      <th>Item_MRP</th>\n      <th>Outlet_Identifier</th>\n      <th>Years of Outlet_Service</th>\n      <th>Outlet</th>\n      <th>Item_Type_0</th>\n      <th>Item_Type_1</th>\n      <th>...</th>\n      <th>Outlet_Size_High</th>\n      <th>Outlet_Size_Medium</th>\n      <th>Outlet_Size_Small</th>\n      <th>Outlet_Location_Type_Tier 1</th>\n      <th>Outlet_Location_Type_Tier 2</th>\n      <th>Outlet_Location_Type_Tier 3</th>\n      <th>Outlet_Type_Grocery Store</th>\n      <th>Outlet_Type_Supermarket Type1</th>\n      <th>Outlet_Type_Supermarket Type2</th>\n      <th>Outlet_Type_Supermarket Type3</th>\n    </tr>\n  </thead>\n  <tbody>\n    <tr>\n      <th>0</th>\n      <td>FDW58</td>\n      <td>20.750000</td>\n      <td>1</td>\n      <td>0.007565</td>\n      <td>107.8622</td>\n      <td>OUT049</td>\n      <td>21</td>\n      <td>9</td>\n      <td>0</td>\n      <td>0</td>\n      <td>...</td>\n      <td>0</td>\n      <td>1</td>\n      <td>0</td>\n      <td>1</td>\n      <td>0</td>\n      <td>0</td>\n      <td>0</td>\n      <td>1</td>\n      <td>0</td>\n      <td>0</td>\n    </tr>\n    <tr>\n      <th>1</th>\n      <td>FDW14</td>\n      <td>8.300000</td>\n      <td>0</td>\n      <td>0.038428</td>\n      <td>87.3198</td>\n      <td>OUT017</td>\n      <td>13</td>\n      <td>2</td>\n      <td>0</td>\n      <td>0</td>\n      <td>...</td>\n      <td>0</td>\n      <td>1</td>\n      <td>0</td>\n      <td>0</td>\n      <td>1</td>\n      <td>0</td>\n      <td>0</td>\n      <td>1</td>\n      <td>0</td>\n      <td>0</td>\n    </tr>\n    <tr>\n      <th>2</th>\n      <td>NCN55</td>\n      <td>14.600000</td>\n      <td>1</td>\n      <td>0.099575</td>\n      <td>241.7538</td>\n      <td>OUT010</td>\n      <td>22</td>\n      <td>0</td>\n      <td>0</td>\n      <td>0</td>\n      <td>...</td>\n      <td>0</td>\n      <td>1</td>\n      <td>0</td>\n      <td>0</td>\n      <td>0</td>\n      <td>1</td>\n      <td>1</td>\n      <td>0</td>\n      <td>0</td>\n      <td>0</td>\n    </tr>\n    <tr>\n      <th>3</th>\n      <td>FDQ58</td>\n      <td>7.315000</td>\n      <td>1</td>\n      <td>0.015388</td>\n      <td>155.0340</td>\n      <td>OUT017</td>\n      <td>13</td>\n      <td>2</td>\n      <td>0</td>\n      <td>0</td>\n      <td>...</td>\n      <td>0</td>\n      <td>1</td>\n      <td>0</td>\n      <td>0</td>\n      <td>1</td>\n      <td>0</td>\n      <td>0</td>\n      <td>1</td>\n      <td>0</td>\n      <td>0</td>\n    </tr>\n    <tr>\n      <th>4</th>\n      <td>FDY38</td>\n      <td>12.695633</td>\n      <td>0</td>\n      <td>0.118599</td>\n      <td>234.2300</td>\n      <td>OUT027</td>\n      <td>35</td>\n      <td>5</td>\n      <td>0</td>\n      <td>0</td>\n      <td>...</td>\n      <td>0</td>\n      <td>1</td>\n      <td>0</td>\n      <td>0</td>\n      <td>0</td>\n      <td>1</td>\n      <td>0</td>\n      <td>0</td>\n      <td>0</td>\n      <td>1</td>\n    </tr>\n  </tbody>\n</table>\n<p>5 rows × 34 columns</p>\n</div>"
     },
     "metadata": {},
     "execution_count": 687
    }
   ],
   "source": [
    "testdata=pd.read_csv(\"Proccessed_testdata.csv\")\n",
    "testdata.head()"
   ]
  },
  {
   "cell_type": "code",
   "execution_count": 688,
   "metadata": {},
   "outputs": [
    {
     "output_type": "execute_result",
     "data": {
      "text/plain": "      Item_Weight  Item_Fat_Content  Item_Visibility  Item_MRP  \\\n0       20.750000                 1         0.007565  107.8622   \n1        8.300000                 0         0.038428   87.3198   \n2       14.600000                 1         0.099575  241.7538   \n3        7.315000                 1         0.015388  155.0340   \n4       12.695633                 0         0.118599  234.2300   \n...           ...               ...              ...       ...   \n5676    10.500000                 0         0.013496  141.3154   \n5677     7.600000                 0         0.142991  169.1448   \n5678    10.000000                 1         0.073529  118.7440   \n5679    15.300000                 0         0.000000  214.6218   \n5680     9.500000                 0         0.104720   79.7960   \n\n      Years of Outlet_Service  Outlet  Item_Type_0  Item_Type_1  Item_Type_2  \\\n0                          21       9            0            0            0   \n1                          13       2            0            0            0   \n2                          22       0            0            0            0   \n3                          13       2            0            0            0   \n4                          35       5            0            0            0   \n...                       ...     ...          ...          ...          ...   \n5676                       23       8            0            0            0   \n5677                       11       3            0            0            0   \n5678                       18       7            0            0            0   \n5679                       13       2            0            0            0   \n5680                       18       7            0            0            0   \n\n      Item_Type_3  ...  Outlet_Size_Medium  Outlet_Size_Small  \\\n0               0  ...                   1                  0   \n1               0  ...                   1                  0   \n2               0  ...                   1                  0   \n3               0  ...                   1                  0   \n4               0  ...                   1                  0   \n...           ...  ...                 ...                ...   \n5676            0  ...                   0                  1   \n5677            0  ...                   1                  0   \n5678            0  ...                   0                  0   \n5679            1  ...                   0                  0   \n5680            1  ...                   0                  0   \n\n      Outlet_Location_Type_Tier 1  Outlet_Location_Type_Tier 2  \\\n0                               1                            0   \n1                               0                            1   \n2                               0                            0   \n3                               0                            1   \n4                               0                            0   \n...                           ...                          ...   \n5676                            1                            0   \n5677                            0                            0   \n5678                            0                            1   \n5679                            0                            1   \n5680                            0                            1   \n\n      Outlet_Location_Type_Tier 3  Outlet_Type_Grocery Store  \\\n0                               0                          0   \n1                               0                          0   \n2                               1                          1   \n3                               0                          0   \n4                               1                          0   \n...                           ...                        ...   \n5676                            0                          0   \n5677                            1                          0   \n5678                            0                          0   \n5679                            0                          0   \n5680                            0                          0   \n\n      Outlet_Type_Supermarket Type1  Outlet_Type_Supermarket Type2  \\\n0                                 1                              0   \n1                                 1                              0   \n2                                 0                              0   \n3                                 1                              0   \n4                                 0                              0   \n...                             ...                            ...   \n5676                              1                              0   \n5677                              0                              1   \n5678                              1                              0   \n5679                              1                              0   \n5680                              1                              0   \n\n      Outlet_Type_Supermarket Type3  Item_Outlet_Sales  \n0                                 0                0.0  \n1                                 0                0.0  \n2                                 0                0.0  \n3                                 0                0.0  \n4                                 1                0.0  \n...                             ...                ...  \n5676                              0                0.0  \n5677                              0                0.0  \n5678                              0                0.0  \n5679                              0                0.0  \n5680                              0                0.0  \n\n[5681 rows x 33 columns]",
      "text/html": "<div>\n<style scoped>\n    .dataframe tbody tr th:only-of-type {\n        vertical-align: middle;\n    }\n\n    .dataframe tbody tr th {\n        vertical-align: top;\n    }\n\n    .dataframe thead th {\n        text-align: right;\n    }\n</style>\n<table border=\"1\" class=\"dataframe\">\n  <thead>\n    <tr style=\"text-align: right;\">\n      <th></th>\n      <th>Item_Weight</th>\n      <th>Item_Fat_Content</th>\n      <th>Item_Visibility</th>\n      <th>Item_MRP</th>\n      <th>Years of Outlet_Service</th>\n      <th>Outlet</th>\n      <th>Item_Type_0</th>\n      <th>Item_Type_1</th>\n      <th>Item_Type_2</th>\n      <th>Item_Type_3</th>\n      <th>...</th>\n      <th>Outlet_Size_Medium</th>\n      <th>Outlet_Size_Small</th>\n      <th>Outlet_Location_Type_Tier 1</th>\n      <th>Outlet_Location_Type_Tier 2</th>\n      <th>Outlet_Location_Type_Tier 3</th>\n      <th>Outlet_Type_Grocery Store</th>\n      <th>Outlet_Type_Supermarket Type1</th>\n      <th>Outlet_Type_Supermarket Type2</th>\n      <th>Outlet_Type_Supermarket Type3</th>\n      <th>Item_Outlet_Sales</th>\n    </tr>\n  </thead>\n  <tbody>\n    <tr>\n      <th>0</th>\n      <td>20.750000</td>\n      <td>1</td>\n      <td>0.007565</td>\n      <td>107.8622</td>\n      <td>21</td>\n      <td>9</td>\n      <td>0</td>\n      <td>0</td>\n      <td>0</td>\n      <td>0</td>\n      <td>...</td>\n      <td>1</td>\n      <td>0</td>\n      <td>1</td>\n      <td>0</td>\n      <td>0</td>\n      <td>0</td>\n      <td>1</td>\n      <td>0</td>\n      <td>0</td>\n      <td>0.0</td>\n    </tr>\n    <tr>\n      <th>1</th>\n      <td>8.300000</td>\n      <td>0</td>\n      <td>0.038428</td>\n      <td>87.3198</td>\n      <td>13</td>\n      <td>2</td>\n      <td>0</td>\n      <td>0</td>\n      <td>0</td>\n      <td>0</td>\n      <td>...</td>\n      <td>1</td>\n      <td>0</td>\n      <td>0</td>\n      <td>1</td>\n      <td>0</td>\n      <td>0</td>\n      <td>1</td>\n      <td>0</td>\n      <td>0</td>\n      <td>0.0</td>\n    </tr>\n    <tr>\n      <th>2</th>\n      <td>14.600000</td>\n      <td>1</td>\n      <td>0.099575</td>\n      <td>241.7538</td>\n      <td>22</td>\n      <td>0</td>\n      <td>0</td>\n      <td>0</td>\n      <td>0</td>\n      <td>0</td>\n      <td>...</td>\n      <td>1</td>\n      <td>0</td>\n      <td>0</td>\n      <td>0</td>\n      <td>1</td>\n      <td>1</td>\n      <td>0</td>\n      <td>0</td>\n      <td>0</td>\n      <td>0.0</td>\n    </tr>\n    <tr>\n      <th>3</th>\n      <td>7.315000</td>\n      <td>1</td>\n      <td>0.015388</td>\n      <td>155.0340</td>\n      <td>13</td>\n      <td>2</td>\n      <td>0</td>\n      <td>0</td>\n      <td>0</td>\n      <td>0</td>\n      <td>...</td>\n      <td>1</td>\n      <td>0</td>\n      <td>0</td>\n      <td>1</td>\n      <td>0</td>\n      <td>0</td>\n      <td>1</td>\n      <td>0</td>\n      <td>0</td>\n      <td>0.0</td>\n    </tr>\n    <tr>\n      <th>4</th>\n      <td>12.695633</td>\n      <td>0</td>\n      <td>0.118599</td>\n      <td>234.2300</td>\n      <td>35</td>\n      <td>5</td>\n      <td>0</td>\n      <td>0</td>\n      <td>0</td>\n      <td>0</td>\n      <td>...</td>\n      <td>1</td>\n      <td>0</td>\n      <td>0</td>\n      <td>0</td>\n      <td>1</td>\n      <td>0</td>\n      <td>0</td>\n      <td>0</td>\n      <td>1</td>\n      <td>0.0</td>\n    </tr>\n    <tr>\n      <th>...</th>\n      <td>...</td>\n      <td>...</td>\n      <td>...</td>\n      <td>...</td>\n      <td>...</td>\n      <td>...</td>\n      <td>...</td>\n      <td>...</td>\n      <td>...</td>\n      <td>...</td>\n      <td>...</td>\n      <td>...</td>\n      <td>...</td>\n      <td>...</td>\n      <td>...</td>\n      <td>...</td>\n      <td>...</td>\n      <td>...</td>\n      <td>...</td>\n      <td>...</td>\n      <td>...</td>\n    </tr>\n    <tr>\n      <th>5676</th>\n      <td>10.500000</td>\n      <td>0</td>\n      <td>0.013496</td>\n      <td>141.3154</td>\n      <td>23</td>\n      <td>8</td>\n      <td>0</td>\n      <td>0</td>\n      <td>0</td>\n      <td>0</td>\n      <td>...</td>\n      <td>0</td>\n      <td>1</td>\n      <td>1</td>\n      <td>0</td>\n      <td>0</td>\n      <td>0</td>\n      <td>1</td>\n      <td>0</td>\n      <td>0</td>\n      <td>0.0</td>\n    </tr>\n    <tr>\n      <th>5677</th>\n      <td>7.600000</td>\n      <td>0</td>\n      <td>0.142991</td>\n      <td>169.1448</td>\n      <td>11</td>\n      <td>3</td>\n      <td>0</td>\n      <td>0</td>\n      <td>0</td>\n      <td>0</td>\n      <td>...</td>\n      <td>1</td>\n      <td>0</td>\n      <td>0</td>\n      <td>0</td>\n      <td>1</td>\n      <td>0</td>\n      <td>0</td>\n      <td>1</td>\n      <td>0</td>\n      <td>0.0</td>\n    </tr>\n    <tr>\n      <th>5678</th>\n      <td>10.000000</td>\n      <td>1</td>\n      <td>0.073529</td>\n      <td>118.7440</td>\n      <td>18</td>\n      <td>7</td>\n      <td>0</td>\n      <td>0</td>\n      <td>0</td>\n      <td>0</td>\n      <td>...</td>\n      <td>0</td>\n      <td>0</td>\n      <td>0</td>\n      <td>1</td>\n      <td>0</td>\n      <td>0</td>\n      <td>1</td>\n      <td>0</td>\n      <td>0</td>\n      <td>0.0</td>\n    </tr>\n    <tr>\n      <th>5679</th>\n      <td>15.300000</td>\n      <td>0</td>\n      <td>0.000000</td>\n      <td>214.6218</td>\n      <td>13</td>\n      <td>2</td>\n      <td>0</td>\n      <td>0</td>\n      <td>0</td>\n      <td>1</td>\n      <td>...</td>\n      <td>0</td>\n      <td>0</td>\n      <td>0</td>\n      <td>1</td>\n      <td>0</td>\n      <td>0</td>\n      <td>1</td>\n      <td>0</td>\n      <td>0</td>\n      <td>0.0</td>\n    </tr>\n    <tr>\n      <th>5680</th>\n      <td>9.500000</td>\n      <td>0</td>\n      <td>0.104720</td>\n      <td>79.7960</td>\n      <td>18</td>\n      <td>7</td>\n      <td>0</td>\n      <td>0</td>\n      <td>0</td>\n      <td>1</td>\n      <td>...</td>\n      <td>0</td>\n      <td>0</td>\n      <td>0</td>\n      <td>1</td>\n      <td>0</td>\n      <td>0</td>\n      <td>1</td>\n      <td>0</td>\n      <td>0</td>\n      <td>0.0</td>\n    </tr>\n  </tbody>\n</table>\n<p>5681 rows × 33 columns</p>\n</div>"
     },
     "metadata": {},
     "execution_count": 688
    }
   ],
   "source": [
    "data1=testdata.copy()\n",
    "X=data1.drop([\"Item_Identifier\",\"Outlet_Identifier\"],axis=1)\n",
    "X[\"Item_Outlet_Sales\"]=0.0\n",
    "X"
   ]
  },
  {
   "cell_type": "code",
   "execution_count": 689,
   "metadata": {},
   "outputs": [],
   "source": [
    "data1[\"Item_Outlet_Sales\"]=abs(model.predict(X))"
   ]
  },
  {
   "cell_type": "code",
   "execution_count": 690,
   "metadata": {},
   "outputs": [
    {
     "output_type": "execute_result",
     "data": {
      "text/plain": "0       2415.107092\n1       2123.241522\n2       1695.487336\n3       2569.115722\n4       1558.741398\n           ...     \n5676    2321.317461\n5677     598.418211\n5678    2575.324183\n5679    2722.088040\n5680    2089.587782\nName: Item_Outlet_Sales, Length: 5681, dtype: float64"
     },
     "metadata": {},
     "execution_count": 690
    }
   ],
   "source": [
    "data1[\"Item_Outlet_Sales\"]"
   ]
  },
  {
   "cell_type": "code",
   "execution_count": 691,
   "metadata": {},
   "outputs": [
    {
     "output_type": "execute_result",
     "data": {
      "text/plain": "  Item_Identifier  Item_Weight  Item_Fat_Content  Item_Visibility  Item_MRP  \\\n0           FDW58    20.750000                 1         0.007565  107.8622   \n1           FDW14     8.300000                 0         0.038428   87.3198   \n2           NCN55    14.600000                 1         0.099575  241.7538   \n3           FDQ58     7.315000                 1         0.015388  155.0340   \n4           FDY38    12.695633                 0         0.118599  234.2300   \n\n  Outlet_Identifier  Years of Outlet_Service  Outlet  Item_Type_0  \\\n0            OUT049                       21       9            0   \n1            OUT017                       13       2            0   \n2            OUT010                       22       0            0   \n3            OUT017                       13       2            0   \n4            OUT027                       35       5            0   \n\n   Item_Type_1  ...  Outlet_Size_Medium  Outlet_Size_Small  \\\n0            0  ...                   1                  0   \n1            0  ...                   1                  0   \n2            0  ...                   1                  0   \n3            0  ...                   1                  0   \n4            0  ...                   1                  0   \n\n   Outlet_Location_Type_Tier 1  Outlet_Location_Type_Tier 2  \\\n0                            1                            0   \n1                            0                            1   \n2                            0                            0   \n3                            0                            1   \n4                            0                            0   \n\n   Outlet_Location_Type_Tier 3  Outlet_Type_Grocery Store  \\\n0                            0                          0   \n1                            0                          0   \n2                            1                          1   \n3                            0                          0   \n4                            1                          0   \n\n   Outlet_Type_Supermarket Type1  Outlet_Type_Supermarket Type2  \\\n0                              1                              0   \n1                              1                              0   \n2                              0                              0   \n3                              1                              0   \n4                              0                              0   \n\n   Outlet_Type_Supermarket Type3  Item_Outlet_Sales  \n0                              0        2415.107092  \n1                              0        2123.241522  \n2                              0        1695.487336  \n3                              0        2569.115722  \n4                              1        1558.741398  \n\n[5 rows x 35 columns]",
      "text/html": "<div>\n<style scoped>\n    .dataframe tbody tr th:only-of-type {\n        vertical-align: middle;\n    }\n\n    .dataframe tbody tr th {\n        vertical-align: top;\n    }\n\n    .dataframe thead th {\n        text-align: right;\n    }\n</style>\n<table border=\"1\" class=\"dataframe\">\n  <thead>\n    <tr style=\"text-align: right;\">\n      <th></th>\n      <th>Item_Identifier</th>\n      <th>Item_Weight</th>\n      <th>Item_Fat_Content</th>\n      <th>Item_Visibility</th>\n      <th>Item_MRP</th>\n      <th>Outlet_Identifier</th>\n      <th>Years of Outlet_Service</th>\n      <th>Outlet</th>\n      <th>Item_Type_0</th>\n      <th>Item_Type_1</th>\n      <th>...</th>\n      <th>Outlet_Size_Medium</th>\n      <th>Outlet_Size_Small</th>\n      <th>Outlet_Location_Type_Tier 1</th>\n      <th>Outlet_Location_Type_Tier 2</th>\n      <th>Outlet_Location_Type_Tier 3</th>\n      <th>Outlet_Type_Grocery Store</th>\n      <th>Outlet_Type_Supermarket Type1</th>\n      <th>Outlet_Type_Supermarket Type2</th>\n      <th>Outlet_Type_Supermarket Type3</th>\n      <th>Item_Outlet_Sales</th>\n    </tr>\n  </thead>\n  <tbody>\n    <tr>\n      <th>0</th>\n      <td>FDW58</td>\n      <td>20.750000</td>\n      <td>1</td>\n      <td>0.007565</td>\n      <td>107.8622</td>\n      <td>OUT049</td>\n      <td>21</td>\n      <td>9</td>\n      <td>0</td>\n      <td>0</td>\n      <td>...</td>\n      <td>1</td>\n      <td>0</td>\n      <td>1</td>\n      <td>0</td>\n      <td>0</td>\n      <td>0</td>\n      <td>1</td>\n      <td>0</td>\n      <td>0</td>\n      <td>2415.107092</td>\n    </tr>\n    <tr>\n      <th>1</th>\n      <td>FDW14</td>\n      <td>8.300000</td>\n      <td>0</td>\n      <td>0.038428</td>\n      <td>87.3198</td>\n      <td>OUT017</td>\n      <td>13</td>\n      <td>2</td>\n      <td>0</td>\n      <td>0</td>\n      <td>...</td>\n      <td>1</td>\n      <td>0</td>\n      <td>0</td>\n      <td>1</td>\n      <td>0</td>\n      <td>0</td>\n      <td>1</td>\n      <td>0</td>\n      <td>0</td>\n      <td>2123.241522</td>\n    </tr>\n    <tr>\n      <th>2</th>\n      <td>NCN55</td>\n      <td>14.600000</td>\n      <td>1</td>\n      <td>0.099575</td>\n      <td>241.7538</td>\n      <td>OUT010</td>\n      <td>22</td>\n      <td>0</td>\n      <td>0</td>\n      <td>0</td>\n      <td>...</td>\n      <td>1</td>\n      <td>0</td>\n      <td>0</td>\n      <td>0</td>\n      <td>1</td>\n      <td>1</td>\n      <td>0</td>\n      <td>0</td>\n      <td>0</td>\n      <td>1695.487336</td>\n    </tr>\n    <tr>\n      <th>3</th>\n      <td>FDQ58</td>\n      <td>7.315000</td>\n      <td>1</td>\n      <td>0.015388</td>\n      <td>155.0340</td>\n      <td>OUT017</td>\n      <td>13</td>\n      <td>2</td>\n      <td>0</td>\n      <td>0</td>\n      <td>...</td>\n      <td>1</td>\n      <td>0</td>\n      <td>0</td>\n      <td>1</td>\n      <td>0</td>\n      <td>0</td>\n      <td>1</td>\n      <td>0</td>\n      <td>0</td>\n      <td>2569.115722</td>\n    </tr>\n    <tr>\n      <th>4</th>\n      <td>FDY38</td>\n      <td>12.695633</td>\n      <td>0</td>\n      <td>0.118599</td>\n      <td>234.2300</td>\n      <td>OUT027</td>\n      <td>35</td>\n      <td>5</td>\n      <td>0</td>\n      <td>0</td>\n      <td>...</td>\n      <td>1</td>\n      <td>0</td>\n      <td>0</td>\n      <td>0</td>\n      <td>1</td>\n      <td>0</td>\n      <td>0</td>\n      <td>0</td>\n      <td>1</td>\n      <td>1558.741398</td>\n    </tr>\n  </tbody>\n</table>\n<p>5 rows × 35 columns</p>\n</div>"
     },
     "metadata": {},
     "execution_count": 691
    }
   ],
   "source": [
    "data1.head()"
   ]
  },
  {
   "cell_type": "code",
   "execution_count": 692,
   "metadata": {},
   "outputs": [],
   "source": [
    "data1.to_csv(\"Predicted.csv\",index=False)"
   ]
  },
  {
   "cell_type": "code",
   "execution_count": 693,
   "metadata": {},
   "outputs": [
    {
     "output_type": "execute_result",
     "data": {
      "text/plain": "  Item_Identifier Outlet_Identifier  Item_Outlet_Sales\n0           FDW58            OUT049        2415.107092\n1           FDW14            OUT017        2123.241522\n2           NCN55            OUT010        1695.487336\n3           FDQ58            OUT017        2569.115722\n4           FDY38            OUT027        1558.741398",
      "text/html": "<div>\n<style scoped>\n    .dataframe tbody tr th:only-of-type {\n        vertical-align: middle;\n    }\n\n    .dataframe tbody tr th {\n        vertical-align: top;\n    }\n\n    .dataframe thead th {\n        text-align: right;\n    }\n</style>\n<table border=\"1\" class=\"dataframe\">\n  <thead>\n    <tr style=\"text-align: right;\">\n      <th></th>\n      <th>Item_Identifier</th>\n      <th>Outlet_Identifier</th>\n      <th>Item_Outlet_Sales</th>\n    </tr>\n  </thead>\n  <tbody>\n    <tr>\n      <th>0</th>\n      <td>FDW58</td>\n      <td>OUT049</td>\n      <td>2415.107092</td>\n    </tr>\n    <tr>\n      <th>1</th>\n      <td>FDW14</td>\n      <td>OUT017</td>\n      <td>2123.241522</td>\n    </tr>\n    <tr>\n      <th>2</th>\n      <td>NCN55</td>\n      <td>OUT010</td>\n      <td>1695.487336</td>\n    </tr>\n    <tr>\n      <th>3</th>\n      <td>FDQ58</td>\n      <td>OUT017</td>\n      <td>2569.115722</td>\n    </tr>\n    <tr>\n      <th>4</th>\n      <td>FDY38</td>\n      <td>OUT027</td>\n      <td>1558.741398</td>\n    </tr>\n  </tbody>\n</table>\n</div>"
     },
     "metadata": {},
     "execution_count": 693
    }
   ],
   "source": [
    "Submission_data=data1[[\"Item_Identifier\",\"Outlet_Identifier\",\"Item_Outlet_Sales\"]]\n",
    "Submission_data.head()"
   ]
  },
  {
   "cell_type": "code",
   "execution_count": 694,
   "metadata": {},
   "outputs": [],
   "source": [
    "Submission_data.to_csv(\"Submissionlinear3.csv\",index=False)"
   ]
  },
  {
   "cell_type": "code",
   "execution_count": null,
   "metadata": {},
   "outputs": [],
   "source": []
  }
 ]
}