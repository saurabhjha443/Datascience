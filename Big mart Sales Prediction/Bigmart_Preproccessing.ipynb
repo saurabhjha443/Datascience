{
 "nbformat": 4,
 "nbformat_minor": 2,
 "metadata": {
  "language_info": {
   "name": "python",
   "codemirror_mode": {
    "name": "ipython",
    "version": 3
   },
   "version": "3.7.7-final"
  },
  "orig_nbformat": 2,
  "file_extension": ".py",
  "mimetype": "text/x-python",
  "name": "python",
  "npconvert_exporter": "python",
  "pygments_lexer": "ipython3",
  "version": 3,
  "kernelspec": {
   "name": "python37764bit642e5d8b3ad04392bc311de90f776020",
   "display_name": "Python 3.7.7 64-bit"
  }
 },
 "cells": [
  {
   "cell_type": "code",
   "execution_count": 183,
   "metadata": {},
   "outputs": [],
   "source": [
    "import pandas as pd \n",
    "import numpy as np \n",
    "from sklearn.preprocessing import StandardScaler \n",
    "from sklearn.preprocessing import LabelEncoder\n",
    "import matplotlib.pyplot as plt\n",
    "import seaborn as sns \n",
    "sns.set()"
   ]
  },
  {
   "cell_type": "code",
   "execution_count": 184,
   "metadata": {},
   "outputs": [
    {
     "output_type": "execute_result",
     "data": {
      "text/plain": "  Item_Identifier  Item_Weight Item_Fat_Content  Item_Visibility  \\\n0           FDA15         9.30          Low Fat         0.016047   \n1           DRC01         5.92          Regular         0.019278   \n2           FDN15        17.50          Low Fat         0.016760   \n3           FDX07        19.20          Regular         0.000000   \n4           NCD19         8.93          Low Fat         0.000000   \n\n               Item_Type  Item_MRP Outlet_Identifier  \\\n0                  Dairy  249.8092            OUT049   \n1            Soft Drinks   48.2692            OUT018   \n2                   Meat  141.6180            OUT049   \n3  Fruits and Vegetables  182.0950            OUT010   \n4              Household   53.8614            OUT013   \n\n   Outlet_Establishment_Year Outlet_Size Outlet_Location_Type  \\\n0                       1999      Medium               Tier 1   \n1                       2009      Medium               Tier 3   \n2                       1999      Medium               Tier 1   \n3                       1998         NaN               Tier 3   \n4                       1987        High               Tier 3   \n\n         Outlet_Type  Item_Outlet_Sales  \n0  Supermarket Type1          3735.1380  \n1  Supermarket Type2           443.4228  \n2  Supermarket Type1          2097.2700  \n3      Grocery Store           732.3800  \n4  Supermarket Type1           994.7052  ",
      "text/html": "<div>\n<style scoped>\n    .dataframe tbody tr th:only-of-type {\n        vertical-align: middle;\n    }\n\n    .dataframe tbody tr th {\n        vertical-align: top;\n    }\n\n    .dataframe thead th {\n        text-align: right;\n    }\n</style>\n<table border=\"1\" class=\"dataframe\">\n  <thead>\n    <tr style=\"text-align: right;\">\n      <th></th>\n      <th>Item_Identifier</th>\n      <th>Item_Weight</th>\n      <th>Item_Fat_Content</th>\n      <th>Item_Visibility</th>\n      <th>Item_Type</th>\n      <th>Item_MRP</th>\n      <th>Outlet_Identifier</th>\n      <th>Outlet_Establishment_Year</th>\n      <th>Outlet_Size</th>\n      <th>Outlet_Location_Type</th>\n      <th>Outlet_Type</th>\n      <th>Item_Outlet_Sales</th>\n    </tr>\n  </thead>\n  <tbody>\n    <tr>\n      <th>0</th>\n      <td>FDA15</td>\n      <td>9.30</td>\n      <td>Low Fat</td>\n      <td>0.016047</td>\n      <td>Dairy</td>\n      <td>249.8092</td>\n      <td>OUT049</td>\n      <td>1999</td>\n      <td>Medium</td>\n      <td>Tier 1</td>\n      <td>Supermarket Type1</td>\n      <td>3735.1380</td>\n    </tr>\n    <tr>\n      <th>1</th>\n      <td>DRC01</td>\n      <td>5.92</td>\n      <td>Regular</td>\n      <td>0.019278</td>\n      <td>Soft Drinks</td>\n      <td>48.2692</td>\n      <td>OUT018</td>\n      <td>2009</td>\n      <td>Medium</td>\n      <td>Tier 3</td>\n      <td>Supermarket Type2</td>\n      <td>443.4228</td>\n    </tr>\n    <tr>\n      <th>2</th>\n      <td>FDN15</td>\n      <td>17.50</td>\n      <td>Low Fat</td>\n      <td>0.016760</td>\n      <td>Meat</td>\n      <td>141.6180</td>\n      <td>OUT049</td>\n      <td>1999</td>\n      <td>Medium</td>\n      <td>Tier 1</td>\n      <td>Supermarket Type1</td>\n      <td>2097.2700</td>\n    </tr>\n    <tr>\n      <th>3</th>\n      <td>FDX07</td>\n      <td>19.20</td>\n      <td>Regular</td>\n      <td>0.000000</td>\n      <td>Fruits and Vegetables</td>\n      <td>182.0950</td>\n      <td>OUT010</td>\n      <td>1998</td>\n      <td>NaN</td>\n      <td>Tier 3</td>\n      <td>Grocery Store</td>\n      <td>732.3800</td>\n    </tr>\n    <tr>\n      <th>4</th>\n      <td>NCD19</td>\n      <td>8.93</td>\n      <td>Low Fat</td>\n      <td>0.000000</td>\n      <td>Household</td>\n      <td>53.8614</td>\n      <td>OUT013</td>\n      <td>1987</td>\n      <td>High</td>\n      <td>Tier 3</td>\n      <td>Supermarket Type1</td>\n      <td>994.7052</td>\n    </tr>\n  </tbody>\n</table>\n</div>"
     },
     "metadata": {},
     "execution_count": 184
    }
   ],
   "source": [
    "raw_data=pd.read_csv(\"train_bigmart.csv\")\n",
    "raw_data.head()"
   ]
  },
  {
   "cell_type": "code",
   "execution_count": 185,
   "metadata": {},
   "outputs": [],
   "source": [
    "data_to_be_proccessed=raw_data.copy()"
   ]
  },
  {
   "cell_type": "code",
   "execution_count": 186,
   "metadata": {},
   "outputs": [
    {
     "output_type": "execute_result",
     "data": {
      "text/plain": "Item_Identifier                 0\nItem_Weight                  1463\nItem_Fat_Content                0\nItem_Visibility                 0\nItem_Type                       0\nItem_MRP                        0\nOutlet_Identifier               0\nOutlet_Establishment_Year       0\nOutlet_Size                  2410\nOutlet_Location_Type            0\nOutlet_Type                     0\nItem_Outlet_Sales               0\ndtype: int64"
     },
     "metadata": {},
     "execution_count": 186
    }
   ],
   "source": [
    "data_to_be_proccessed.isnull().sum()"
   ]
  },
  {
   "cell_type": "code",
   "execution_count": 187,
   "metadata": {},
   "outputs": [],
   "source": [
    "data_to_be_proccessed[\"Item_Weight\"].fillna(data_to_be_proccessed[\"Item_Weight\"].mean(),inplace=True)"
   ]
  },
  {
   "cell_type": "code",
   "execution_count": 188,
   "metadata": {},
   "outputs": [
    {
     "output_type": "execute_result",
     "data": {
      "text/plain": "array(['Medium', nan, 'High', 'Small'], dtype=object)"
     },
     "metadata": {},
     "execution_count": 188
    }
   ],
   "source": [
    "data_to_be_proccessed[\"Outlet_Size\"].unique()"
   ]
  },
  {
   "cell_type": "code",
   "execution_count": 189,
   "metadata": {},
   "outputs": [
    {
     "output_type": "execute_result",
     "data": {
      "text/plain": "Medium    2793\nSmall     2388\nHigh       932\nName: Outlet_Size, dtype: int64"
     },
     "metadata": {},
     "execution_count": 189
    }
   ],
   "source": [
    "data_to_be_proccessed[\"Outlet_Size\"].value_counts()"
   ]
  },
  {
   "cell_type": "code",
   "execution_count": 190,
   "metadata": {},
   "outputs": [],
   "source": [
    "data_to_be_proccessed[\"Outlet_Size\"]= data_to_be_proccessed[\"Outlet_Size\"].fillna(method=\"bfill\")"
   ]
  },
  {
   "cell_type": "code",
   "execution_count": 191,
   "metadata": {},
   "outputs": [
    {
     "output_type": "execute_result",
     "data": {
      "text/plain": "Medium    3940\nSmall     3290\nHigh      1293\nName: Outlet_Size, dtype: int64"
     },
     "metadata": {},
     "execution_count": 191
    }
   ],
   "source": [
    "data_to_be_proccessed[\"Outlet_Size\"].value_counts()"
   ]
  },
  {
   "cell_type": "code",
   "execution_count": 192,
   "metadata": {},
   "outputs": [
    {
     "output_type": "execute_result",
     "data": {
      "text/plain": "   Item_Identifier  Item_Weight Item_Fat_Content  Item_Visibility  \\\n0            FDA15     9.300000          Low Fat         0.016047   \n1            DRC01     5.920000          Regular         0.019278   \n2            FDN15    17.500000          Low Fat         0.016760   \n3            FDX07    19.200000          Regular         0.000000   \n4            NCD19     8.930000          Low Fat         0.000000   \n5            FDP36    10.395000          Regular         0.000000   \n6            FDO10    13.650000          Regular         0.012741   \n7            FDP10    12.857645          Low Fat         0.127470   \n8            FDH17    16.200000          Regular         0.016687   \n9            FDU28    19.200000          Regular         0.094450   \n10           FDY07    11.800000          Low Fat         0.000000   \n11           FDA03    18.500000          Regular         0.045464   \n12           FDX32    15.100000          Regular         0.100014   \n13           FDS46    17.600000          Regular         0.047257   \n14           FDF32    16.350000          Low Fat         0.068024   \n\n                Item_Type  Item_MRP Outlet_Identifier  \\\n0                   Dairy  249.8092            OUT049   \n1             Soft Drinks   48.2692            OUT018   \n2                    Meat  141.6180            OUT049   \n3   Fruits and Vegetables  182.0950            OUT010   \n4               Household   53.8614            OUT013   \n5            Baking Goods   51.4008            OUT018   \n6             Snack Foods   57.6588            OUT013   \n7             Snack Foods  107.7622            OUT027   \n8            Frozen Foods   96.9726            OUT045   \n9            Frozen Foods  187.8214            OUT017   \n10  Fruits and Vegetables   45.5402            OUT049   \n11                  Dairy  144.1102            OUT046   \n12  Fruits and Vegetables  145.4786            OUT049   \n13            Snack Foods  119.6782            OUT046   \n14  Fruits and Vegetables  196.4426            OUT013   \n\n    Outlet_Establishment_Year Outlet_Size Outlet_Location_Type  \\\n0                        1999      Medium               Tier 1   \n1                        2009      Medium               Tier 3   \n2                        1999      Medium               Tier 1   \n3                        1998        High               Tier 3   \n4                        1987        High               Tier 3   \n5                        2009      Medium               Tier 3   \n6                        1987        High               Tier 3   \n7                        1985      Medium               Tier 3   \n8                        2002      Medium               Tier 2   \n9                        2007      Medium               Tier 2   \n10                       1999      Medium               Tier 1   \n11                       1997       Small               Tier 1   \n12                       1999      Medium               Tier 1   \n13                       1997       Small               Tier 1   \n14                       1987        High               Tier 3   \n\n          Outlet_Type  Item_Outlet_Sales  \n0   Supermarket Type1          3735.1380  \n1   Supermarket Type2           443.4228  \n2   Supermarket Type1          2097.2700  \n3       Grocery Store           732.3800  \n4   Supermarket Type1           994.7052  \n5   Supermarket Type2           556.6088  \n6   Supermarket Type1           343.5528  \n7   Supermarket Type3          4022.7636  \n8   Supermarket Type1          1076.5986  \n9   Supermarket Type1          4710.5350  \n10  Supermarket Type1          1516.0266  \n11  Supermarket Type1          2187.1530  \n12  Supermarket Type1          1589.2646  \n13  Supermarket Type1          2145.2076  \n14  Supermarket Type1          1977.4260  ",
      "text/html": "<div>\n<style scoped>\n    .dataframe tbody tr th:only-of-type {\n        vertical-align: middle;\n    }\n\n    .dataframe tbody tr th {\n        vertical-align: top;\n    }\n\n    .dataframe thead th {\n        text-align: right;\n    }\n</style>\n<table border=\"1\" class=\"dataframe\">\n  <thead>\n    <tr style=\"text-align: right;\">\n      <th></th>\n      <th>Item_Identifier</th>\n      <th>Item_Weight</th>\n      <th>Item_Fat_Content</th>\n      <th>Item_Visibility</th>\n      <th>Item_Type</th>\n      <th>Item_MRP</th>\n      <th>Outlet_Identifier</th>\n      <th>Outlet_Establishment_Year</th>\n      <th>Outlet_Size</th>\n      <th>Outlet_Location_Type</th>\n      <th>Outlet_Type</th>\n      <th>Item_Outlet_Sales</th>\n    </tr>\n  </thead>\n  <tbody>\n    <tr>\n      <th>0</th>\n      <td>FDA15</td>\n      <td>9.300000</td>\n      <td>Low Fat</td>\n      <td>0.016047</td>\n      <td>Dairy</td>\n      <td>249.8092</td>\n      <td>OUT049</td>\n      <td>1999</td>\n      <td>Medium</td>\n      <td>Tier 1</td>\n      <td>Supermarket Type1</td>\n      <td>3735.1380</td>\n    </tr>\n    <tr>\n      <th>1</th>\n      <td>DRC01</td>\n      <td>5.920000</td>\n      <td>Regular</td>\n      <td>0.019278</td>\n      <td>Soft Drinks</td>\n      <td>48.2692</td>\n      <td>OUT018</td>\n      <td>2009</td>\n      <td>Medium</td>\n      <td>Tier 3</td>\n      <td>Supermarket Type2</td>\n      <td>443.4228</td>\n    </tr>\n    <tr>\n      <th>2</th>\n      <td>FDN15</td>\n      <td>17.500000</td>\n      <td>Low Fat</td>\n      <td>0.016760</td>\n      <td>Meat</td>\n      <td>141.6180</td>\n      <td>OUT049</td>\n      <td>1999</td>\n      <td>Medium</td>\n      <td>Tier 1</td>\n      <td>Supermarket Type1</td>\n      <td>2097.2700</td>\n    </tr>\n    <tr>\n      <th>3</th>\n      <td>FDX07</td>\n      <td>19.200000</td>\n      <td>Regular</td>\n      <td>0.000000</td>\n      <td>Fruits and Vegetables</td>\n      <td>182.0950</td>\n      <td>OUT010</td>\n      <td>1998</td>\n      <td>High</td>\n      <td>Tier 3</td>\n      <td>Grocery Store</td>\n      <td>732.3800</td>\n    </tr>\n    <tr>\n      <th>4</th>\n      <td>NCD19</td>\n      <td>8.930000</td>\n      <td>Low Fat</td>\n      <td>0.000000</td>\n      <td>Household</td>\n      <td>53.8614</td>\n      <td>OUT013</td>\n      <td>1987</td>\n      <td>High</td>\n      <td>Tier 3</td>\n      <td>Supermarket Type1</td>\n      <td>994.7052</td>\n    </tr>\n    <tr>\n      <th>5</th>\n      <td>FDP36</td>\n      <td>10.395000</td>\n      <td>Regular</td>\n      <td>0.000000</td>\n      <td>Baking Goods</td>\n      <td>51.4008</td>\n      <td>OUT018</td>\n      <td>2009</td>\n      <td>Medium</td>\n      <td>Tier 3</td>\n      <td>Supermarket Type2</td>\n      <td>556.6088</td>\n    </tr>\n    <tr>\n      <th>6</th>\n      <td>FDO10</td>\n      <td>13.650000</td>\n      <td>Regular</td>\n      <td>0.012741</td>\n      <td>Snack Foods</td>\n      <td>57.6588</td>\n      <td>OUT013</td>\n      <td>1987</td>\n      <td>High</td>\n      <td>Tier 3</td>\n      <td>Supermarket Type1</td>\n      <td>343.5528</td>\n    </tr>\n    <tr>\n      <th>7</th>\n      <td>FDP10</td>\n      <td>12.857645</td>\n      <td>Low Fat</td>\n      <td>0.127470</td>\n      <td>Snack Foods</td>\n      <td>107.7622</td>\n      <td>OUT027</td>\n      <td>1985</td>\n      <td>Medium</td>\n      <td>Tier 3</td>\n      <td>Supermarket Type3</td>\n      <td>4022.7636</td>\n    </tr>\n    <tr>\n      <th>8</th>\n      <td>FDH17</td>\n      <td>16.200000</td>\n      <td>Regular</td>\n      <td>0.016687</td>\n      <td>Frozen Foods</td>\n      <td>96.9726</td>\n      <td>OUT045</td>\n      <td>2002</td>\n      <td>Medium</td>\n      <td>Tier 2</td>\n      <td>Supermarket Type1</td>\n      <td>1076.5986</td>\n    </tr>\n    <tr>\n      <th>9</th>\n      <td>FDU28</td>\n      <td>19.200000</td>\n      <td>Regular</td>\n      <td>0.094450</td>\n      <td>Frozen Foods</td>\n      <td>187.8214</td>\n      <td>OUT017</td>\n      <td>2007</td>\n      <td>Medium</td>\n      <td>Tier 2</td>\n      <td>Supermarket Type1</td>\n      <td>4710.5350</td>\n    </tr>\n    <tr>\n      <th>10</th>\n      <td>FDY07</td>\n      <td>11.800000</td>\n      <td>Low Fat</td>\n      <td>0.000000</td>\n      <td>Fruits and Vegetables</td>\n      <td>45.5402</td>\n      <td>OUT049</td>\n      <td>1999</td>\n      <td>Medium</td>\n      <td>Tier 1</td>\n      <td>Supermarket Type1</td>\n      <td>1516.0266</td>\n    </tr>\n    <tr>\n      <th>11</th>\n      <td>FDA03</td>\n      <td>18.500000</td>\n      <td>Regular</td>\n      <td>0.045464</td>\n      <td>Dairy</td>\n      <td>144.1102</td>\n      <td>OUT046</td>\n      <td>1997</td>\n      <td>Small</td>\n      <td>Tier 1</td>\n      <td>Supermarket Type1</td>\n      <td>2187.1530</td>\n    </tr>\n    <tr>\n      <th>12</th>\n      <td>FDX32</td>\n      <td>15.100000</td>\n      <td>Regular</td>\n      <td>0.100014</td>\n      <td>Fruits and Vegetables</td>\n      <td>145.4786</td>\n      <td>OUT049</td>\n      <td>1999</td>\n      <td>Medium</td>\n      <td>Tier 1</td>\n      <td>Supermarket Type1</td>\n      <td>1589.2646</td>\n    </tr>\n    <tr>\n      <th>13</th>\n      <td>FDS46</td>\n      <td>17.600000</td>\n      <td>Regular</td>\n      <td>0.047257</td>\n      <td>Snack Foods</td>\n      <td>119.6782</td>\n      <td>OUT046</td>\n      <td>1997</td>\n      <td>Small</td>\n      <td>Tier 1</td>\n      <td>Supermarket Type1</td>\n      <td>2145.2076</td>\n    </tr>\n    <tr>\n      <th>14</th>\n      <td>FDF32</td>\n      <td>16.350000</td>\n      <td>Low Fat</td>\n      <td>0.068024</td>\n      <td>Fruits and Vegetables</td>\n      <td>196.4426</td>\n      <td>OUT013</td>\n      <td>1987</td>\n      <td>High</td>\n      <td>Tier 3</td>\n      <td>Supermarket Type1</td>\n      <td>1977.4260</td>\n    </tr>\n  </tbody>\n</table>\n</div>"
     },
     "metadata": {},
     "execution_count": 192
    }
   ],
   "source": [
    "data_to_be_proccessed.head(15)"
   ]
  },
  {
   "cell_type": "code",
   "execution_count": 193,
   "metadata": {},
   "outputs": [
    {
     "output_type": "execute_result",
     "data": {
      "text/plain": "array(['Low Fat', 'Regular', 'low fat', 'LF', 'reg'], dtype=object)"
     },
     "metadata": {},
     "execution_count": 193
    }
   ],
   "source": [
    "data_to_be_proccessed[\"Item_Fat_Content\"].unique()"
   ]
  },
  {
   "cell_type": "code",
   "execution_count": 194,
   "metadata": {},
   "outputs": [],
   "source": [
    "data_to_be_proccessed[\"Item_Fat_Content\"]=data_to_be_proccessed[\"Item_Fat_Content\"].map({'Low Fat':1, 'Regular':0, 'low fat':1, 'LF':1, 'reg':0})"
   ]
  },
  {
   "cell_type": "code",
   "execution_count": 195,
   "metadata": {},
   "outputs": [
    {
     "output_type": "execute_result",
     "data": {
      "text/plain": "array([1, 0], dtype=int64)"
     },
     "metadata": {},
     "execution_count": 195
    }
   ],
   "source": [
    "data_to_be_proccessed[\"Item_Fat_Content\"].unique()"
   ]
  },
  {
   "cell_type": "code",
   "execution_count": 196,
   "metadata": {},
   "outputs": [
    {
     "output_type": "execute_result",
     "data": {
      "text/plain": "   Item_Identifier  Item_Weight  Item_Fat_Content  Item_Visibility  \\\n0            FDA15     9.300000                 1         0.016047   \n1            DRC01     5.920000                 0         0.019278   \n2            FDN15    17.500000                 1         0.016760   \n3            FDX07    19.200000                 0         0.000000   \n4            NCD19     8.930000                 1         0.000000   \n5            FDP36    10.395000                 0         0.000000   \n6            FDO10    13.650000                 0         0.012741   \n7            FDP10    12.857645                 1         0.127470   \n8            FDH17    16.200000                 0         0.016687   \n9            FDU28    19.200000                 0         0.094450   \n10           FDY07    11.800000                 1         0.000000   \n11           FDA03    18.500000                 0         0.045464   \n12           FDX32    15.100000                 0         0.100014   \n13           FDS46    17.600000                 0         0.047257   \n14           FDF32    16.350000                 1         0.068024   \n\n                Item_Type  Item_MRP Outlet_Identifier  \\\n0                   Dairy  249.8092            OUT049   \n1             Soft Drinks   48.2692            OUT018   \n2                    Meat  141.6180            OUT049   \n3   Fruits and Vegetables  182.0950            OUT010   \n4               Household   53.8614            OUT013   \n5            Baking Goods   51.4008            OUT018   \n6             Snack Foods   57.6588            OUT013   \n7             Snack Foods  107.7622            OUT027   \n8            Frozen Foods   96.9726            OUT045   \n9            Frozen Foods  187.8214            OUT017   \n10  Fruits and Vegetables   45.5402            OUT049   \n11                  Dairy  144.1102            OUT046   \n12  Fruits and Vegetables  145.4786            OUT049   \n13            Snack Foods  119.6782            OUT046   \n14  Fruits and Vegetables  196.4426            OUT013   \n\n    Outlet_Establishment_Year Outlet_Size Outlet_Location_Type  \\\n0                        1999      Medium               Tier 1   \n1                        2009      Medium               Tier 3   \n2                        1999      Medium               Tier 1   \n3                        1998        High               Tier 3   \n4                        1987        High               Tier 3   \n5                        2009      Medium               Tier 3   \n6                        1987        High               Tier 3   \n7                        1985      Medium               Tier 3   \n8                        2002      Medium               Tier 2   \n9                        2007      Medium               Tier 2   \n10                       1999      Medium               Tier 1   \n11                       1997       Small               Tier 1   \n12                       1999      Medium               Tier 1   \n13                       1997       Small               Tier 1   \n14                       1987        High               Tier 3   \n\n          Outlet_Type  Item_Outlet_Sales  \n0   Supermarket Type1          3735.1380  \n1   Supermarket Type2           443.4228  \n2   Supermarket Type1          2097.2700  \n3       Grocery Store           732.3800  \n4   Supermarket Type1           994.7052  \n5   Supermarket Type2           556.6088  \n6   Supermarket Type1           343.5528  \n7   Supermarket Type3          4022.7636  \n8   Supermarket Type1          1076.5986  \n9   Supermarket Type1          4710.5350  \n10  Supermarket Type1          1516.0266  \n11  Supermarket Type1          2187.1530  \n12  Supermarket Type1          1589.2646  \n13  Supermarket Type1          2145.2076  \n14  Supermarket Type1          1977.4260  ",
      "text/html": "<div>\n<style scoped>\n    .dataframe tbody tr th:only-of-type {\n        vertical-align: middle;\n    }\n\n    .dataframe tbody tr th {\n        vertical-align: top;\n    }\n\n    .dataframe thead th {\n        text-align: right;\n    }\n</style>\n<table border=\"1\" class=\"dataframe\">\n  <thead>\n    <tr style=\"text-align: right;\">\n      <th></th>\n      <th>Item_Identifier</th>\n      <th>Item_Weight</th>\n      <th>Item_Fat_Content</th>\n      <th>Item_Visibility</th>\n      <th>Item_Type</th>\n      <th>Item_MRP</th>\n      <th>Outlet_Identifier</th>\n      <th>Outlet_Establishment_Year</th>\n      <th>Outlet_Size</th>\n      <th>Outlet_Location_Type</th>\n      <th>Outlet_Type</th>\n      <th>Item_Outlet_Sales</th>\n    </tr>\n  </thead>\n  <tbody>\n    <tr>\n      <th>0</th>\n      <td>FDA15</td>\n      <td>9.300000</td>\n      <td>1</td>\n      <td>0.016047</td>\n      <td>Dairy</td>\n      <td>249.8092</td>\n      <td>OUT049</td>\n      <td>1999</td>\n      <td>Medium</td>\n      <td>Tier 1</td>\n      <td>Supermarket Type1</td>\n      <td>3735.1380</td>\n    </tr>\n    <tr>\n      <th>1</th>\n      <td>DRC01</td>\n      <td>5.920000</td>\n      <td>0</td>\n      <td>0.019278</td>\n      <td>Soft Drinks</td>\n      <td>48.2692</td>\n      <td>OUT018</td>\n      <td>2009</td>\n      <td>Medium</td>\n      <td>Tier 3</td>\n      <td>Supermarket Type2</td>\n      <td>443.4228</td>\n    </tr>\n    <tr>\n      <th>2</th>\n      <td>FDN15</td>\n      <td>17.500000</td>\n      <td>1</td>\n      <td>0.016760</td>\n      <td>Meat</td>\n      <td>141.6180</td>\n      <td>OUT049</td>\n      <td>1999</td>\n      <td>Medium</td>\n      <td>Tier 1</td>\n      <td>Supermarket Type1</td>\n      <td>2097.2700</td>\n    </tr>\n    <tr>\n      <th>3</th>\n      <td>FDX07</td>\n      <td>19.200000</td>\n      <td>0</td>\n      <td>0.000000</td>\n      <td>Fruits and Vegetables</td>\n      <td>182.0950</td>\n      <td>OUT010</td>\n      <td>1998</td>\n      <td>High</td>\n      <td>Tier 3</td>\n      <td>Grocery Store</td>\n      <td>732.3800</td>\n    </tr>\n    <tr>\n      <th>4</th>\n      <td>NCD19</td>\n      <td>8.930000</td>\n      <td>1</td>\n      <td>0.000000</td>\n      <td>Household</td>\n      <td>53.8614</td>\n      <td>OUT013</td>\n      <td>1987</td>\n      <td>High</td>\n      <td>Tier 3</td>\n      <td>Supermarket Type1</td>\n      <td>994.7052</td>\n    </tr>\n    <tr>\n      <th>5</th>\n      <td>FDP36</td>\n      <td>10.395000</td>\n      <td>0</td>\n      <td>0.000000</td>\n      <td>Baking Goods</td>\n      <td>51.4008</td>\n      <td>OUT018</td>\n      <td>2009</td>\n      <td>Medium</td>\n      <td>Tier 3</td>\n      <td>Supermarket Type2</td>\n      <td>556.6088</td>\n    </tr>\n    <tr>\n      <th>6</th>\n      <td>FDO10</td>\n      <td>13.650000</td>\n      <td>0</td>\n      <td>0.012741</td>\n      <td>Snack Foods</td>\n      <td>57.6588</td>\n      <td>OUT013</td>\n      <td>1987</td>\n      <td>High</td>\n      <td>Tier 3</td>\n      <td>Supermarket Type1</td>\n      <td>343.5528</td>\n    </tr>\n    <tr>\n      <th>7</th>\n      <td>FDP10</td>\n      <td>12.857645</td>\n      <td>1</td>\n      <td>0.127470</td>\n      <td>Snack Foods</td>\n      <td>107.7622</td>\n      <td>OUT027</td>\n      <td>1985</td>\n      <td>Medium</td>\n      <td>Tier 3</td>\n      <td>Supermarket Type3</td>\n      <td>4022.7636</td>\n    </tr>\n    <tr>\n      <th>8</th>\n      <td>FDH17</td>\n      <td>16.200000</td>\n      <td>0</td>\n      <td>0.016687</td>\n      <td>Frozen Foods</td>\n      <td>96.9726</td>\n      <td>OUT045</td>\n      <td>2002</td>\n      <td>Medium</td>\n      <td>Tier 2</td>\n      <td>Supermarket Type1</td>\n      <td>1076.5986</td>\n    </tr>\n    <tr>\n      <th>9</th>\n      <td>FDU28</td>\n      <td>19.200000</td>\n      <td>0</td>\n      <td>0.094450</td>\n      <td>Frozen Foods</td>\n      <td>187.8214</td>\n      <td>OUT017</td>\n      <td>2007</td>\n      <td>Medium</td>\n      <td>Tier 2</td>\n      <td>Supermarket Type1</td>\n      <td>4710.5350</td>\n    </tr>\n    <tr>\n      <th>10</th>\n      <td>FDY07</td>\n      <td>11.800000</td>\n      <td>1</td>\n      <td>0.000000</td>\n      <td>Fruits and Vegetables</td>\n      <td>45.5402</td>\n      <td>OUT049</td>\n      <td>1999</td>\n      <td>Medium</td>\n      <td>Tier 1</td>\n      <td>Supermarket Type1</td>\n      <td>1516.0266</td>\n    </tr>\n    <tr>\n      <th>11</th>\n      <td>FDA03</td>\n      <td>18.500000</td>\n      <td>0</td>\n      <td>0.045464</td>\n      <td>Dairy</td>\n      <td>144.1102</td>\n      <td>OUT046</td>\n      <td>1997</td>\n      <td>Small</td>\n      <td>Tier 1</td>\n      <td>Supermarket Type1</td>\n      <td>2187.1530</td>\n    </tr>\n    <tr>\n      <th>12</th>\n      <td>FDX32</td>\n      <td>15.100000</td>\n      <td>0</td>\n      <td>0.100014</td>\n      <td>Fruits and Vegetables</td>\n      <td>145.4786</td>\n      <td>OUT049</td>\n      <td>1999</td>\n      <td>Medium</td>\n      <td>Tier 1</td>\n      <td>Supermarket Type1</td>\n      <td>1589.2646</td>\n    </tr>\n    <tr>\n      <th>13</th>\n      <td>FDS46</td>\n      <td>17.600000</td>\n      <td>0</td>\n      <td>0.047257</td>\n      <td>Snack Foods</td>\n      <td>119.6782</td>\n      <td>OUT046</td>\n      <td>1997</td>\n      <td>Small</td>\n      <td>Tier 1</td>\n      <td>Supermarket Type1</td>\n      <td>2145.2076</td>\n    </tr>\n    <tr>\n      <th>14</th>\n      <td>FDF32</td>\n      <td>16.350000</td>\n      <td>1</td>\n      <td>0.068024</td>\n      <td>Fruits and Vegetables</td>\n      <td>196.4426</td>\n      <td>OUT013</td>\n      <td>1987</td>\n      <td>High</td>\n      <td>Tier 3</td>\n      <td>Supermarket Type1</td>\n      <td>1977.4260</td>\n    </tr>\n  </tbody>\n</table>\n</div>"
     },
     "metadata": {},
     "execution_count": 196
    }
   ],
   "source": [
    "data_to_be_proccessed.head(15)"
   ]
  },
  {
   "cell_type": "code",
   "execution_count": 197,
   "metadata": {},
   "outputs": [
    {
     "output_type": "execute_result",
     "data": {
      "text/plain": "Fruits and Vegetables    1232\nSnack Foods              1200\nHousehold                 910\nFrozen Foods              856\nDairy                     682\nCanned                    649\nBaking Goods              648\nHealth and Hygiene        520\nSoft Drinks               445\nMeat                      425\nBreads                    251\nHard Drinks               214\nOthers                    169\nStarchy Foods             148\nBreakfast                 110\nSeafood                    64\nName: Item_Type, dtype: int64"
     },
     "metadata": {},
     "execution_count": 197
    }
   ],
   "source": [
    "data_to_be_proccessed[\"Item_Type\"].value_counts()"
   ]
  },
  {
   "cell_type": "code",
   "execution_count": 198,
   "metadata": {},
   "outputs": [
    {
     "output_type": "execute_result",
     "data": {
      "text/plain": "Index(['Item_Identifier', 'Item_Weight', 'Item_Fat_Content', 'Item_Visibility',\n       'Item_Type', 'Item_MRP', 'Outlet_Identifier',\n       'Outlet_Establishment_Year', 'Outlet_Size', 'Outlet_Location_Type',\n       'Outlet_Type', 'Item_Outlet_Sales'],\n      dtype='object')"
     },
     "metadata": {},
     "execution_count": 198
    }
   ],
   "source": [
    "data_to_be_proccessed.columns"
   ]
  },
  {
   "cell_type": "code",
   "execution_count": 199,
   "metadata": {},
   "outputs": [],
   "source": [
    "data_to_be_proccessed['Outlet_Establishment_Year']=2020-data_to_be_proccessed['Outlet_Establishment_Year']"
   ]
  },
  {
   "cell_type": "code",
   "execution_count": 200,
   "metadata": {},
   "outputs": [],
   "source": [
    "data_to_be_proccessed= data_to_be_proccessed.rename(columns={'Outlet_Establishment_Year': 'Years of Outlet_Service'})"
   ]
  },
  {
   "cell_type": "code",
   "execution_count": 201,
   "metadata": {},
   "outputs": [
    {
     "output_type": "execute_result",
     "data": {
      "text/plain": "       Item_Weight  Item_Fat_Content  Item_Visibility     Item_MRP  \\\ncount  8523.000000       8523.000000      8523.000000  8523.000000   \nmean     12.857645          0.647307         0.066132   140.992782   \nstd       4.226124          0.477836         0.051598    62.275067   \nmin       4.555000          0.000000         0.000000    31.290000   \n25%       9.310000          0.000000         0.026989    93.826500   \n50%      12.857645          1.000000         0.053931   143.012800   \n75%      16.000000          1.000000         0.094585   185.643700   \nmax      21.350000          1.000000         0.328391   266.888400   \n\n       Years of Outlet_Service  Item_Outlet_Sales  \ncount              8523.000000        8523.000000  \nmean                 22.168133        2181.288914  \nstd                   8.371760        1706.499616  \nmin                  11.000000          33.290000  \n25%                  16.000000         834.247400  \n50%                  21.000000        1794.331000  \n75%                  33.000000        3101.296400  \nmax                  35.000000       13086.964800  ",
      "text/html": "<div>\n<style scoped>\n    .dataframe tbody tr th:only-of-type {\n        vertical-align: middle;\n    }\n\n    .dataframe tbody tr th {\n        vertical-align: top;\n    }\n\n    .dataframe thead th {\n        text-align: right;\n    }\n</style>\n<table border=\"1\" class=\"dataframe\">\n  <thead>\n    <tr style=\"text-align: right;\">\n      <th></th>\n      <th>Item_Weight</th>\n      <th>Item_Fat_Content</th>\n      <th>Item_Visibility</th>\n      <th>Item_MRP</th>\n      <th>Years of Outlet_Service</th>\n      <th>Item_Outlet_Sales</th>\n    </tr>\n  </thead>\n  <tbody>\n    <tr>\n      <th>count</th>\n      <td>8523.000000</td>\n      <td>8523.000000</td>\n      <td>8523.000000</td>\n      <td>8523.000000</td>\n      <td>8523.000000</td>\n      <td>8523.000000</td>\n    </tr>\n    <tr>\n      <th>mean</th>\n      <td>12.857645</td>\n      <td>0.647307</td>\n      <td>0.066132</td>\n      <td>140.992782</td>\n      <td>22.168133</td>\n      <td>2181.288914</td>\n    </tr>\n    <tr>\n      <th>std</th>\n      <td>4.226124</td>\n      <td>0.477836</td>\n      <td>0.051598</td>\n      <td>62.275067</td>\n      <td>8.371760</td>\n      <td>1706.499616</td>\n    </tr>\n    <tr>\n      <th>min</th>\n      <td>4.555000</td>\n      <td>0.000000</td>\n      <td>0.000000</td>\n      <td>31.290000</td>\n      <td>11.000000</td>\n      <td>33.290000</td>\n    </tr>\n    <tr>\n      <th>25%</th>\n      <td>9.310000</td>\n      <td>0.000000</td>\n      <td>0.026989</td>\n      <td>93.826500</td>\n      <td>16.000000</td>\n      <td>834.247400</td>\n    </tr>\n    <tr>\n      <th>50%</th>\n      <td>12.857645</td>\n      <td>1.000000</td>\n      <td>0.053931</td>\n      <td>143.012800</td>\n      <td>21.000000</td>\n      <td>1794.331000</td>\n    </tr>\n    <tr>\n      <th>75%</th>\n      <td>16.000000</td>\n      <td>1.000000</td>\n      <td>0.094585</td>\n      <td>185.643700</td>\n      <td>33.000000</td>\n      <td>3101.296400</td>\n    </tr>\n    <tr>\n      <th>max</th>\n      <td>21.350000</td>\n      <td>1.000000</td>\n      <td>0.328391</td>\n      <td>266.888400</td>\n      <td>35.000000</td>\n      <td>13086.964800</td>\n    </tr>\n  </tbody>\n</table>\n</div>"
     },
     "metadata": {},
     "execution_count": 201
    }
   ],
   "source": [
    "data_to_be_proccessed.describe()"
   ]
  },
  {
   "cell_type": "code",
   "execution_count": 202,
   "metadata": {},
   "outputs": [],
   "source": [
    "Encoder=LabelEncoder()\n",
    "data_to_be_proccessed[\"Outlet\"]=Encoder.fit_transform(data_to_be_proccessed[\"Outlet_Identifier\"])\n",
    "features=['Item_Fat_Content','Item_Type','Outlet_Size','Outlet_Location_Type',\n",
    "       'Outlet_Type']\n",
    "for i in features:\n",
    "    data_to_be_proccessed[i]=Encoder.fit_transform(data_to_be_proccessed[i])\n",
    ""
   ]
  },
  {
   "cell_type": "code",
   "execution_count": 203,
   "metadata": {},
   "outputs": [
    {
     "output_type": "execute_result",
     "data": {
      "text/plain": "  Item_Identifier  Item_Weight  Item_Fat_Content  Item_Visibility  Item_Type  \\\n0           FDA15         9.30                 1         0.016047          4   \n1           DRC01         5.92                 0         0.019278         14   \n2           FDN15        17.50                 1         0.016760         10   \n3           FDX07        19.20                 0         0.000000          6   \n4           NCD19         8.93                 1         0.000000          9   \n\n   Item_MRP Outlet_Identifier  Years of Outlet_Service  Outlet_Size  \\\n0  249.8092            OUT049                       21            1   \n1   48.2692            OUT018                       11            1   \n2  141.6180            OUT049                       21            1   \n3  182.0950            OUT010                       22            0   \n4   53.8614            OUT013                       33            0   \n\n   Outlet_Location_Type  Outlet_Type  Item_Outlet_Sales  Outlet  \n0                     0            1          3735.1380       9  \n1                     2            2           443.4228       3  \n2                     0            1          2097.2700       9  \n3                     2            0           732.3800       0  \n4                     2            1           994.7052       1  ",
      "text/html": "<div>\n<style scoped>\n    .dataframe tbody tr th:only-of-type {\n        vertical-align: middle;\n    }\n\n    .dataframe tbody tr th {\n        vertical-align: top;\n    }\n\n    .dataframe thead th {\n        text-align: right;\n    }\n</style>\n<table border=\"1\" class=\"dataframe\">\n  <thead>\n    <tr style=\"text-align: right;\">\n      <th></th>\n      <th>Item_Identifier</th>\n      <th>Item_Weight</th>\n      <th>Item_Fat_Content</th>\n      <th>Item_Visibility</th>\n      <th>Item_Type</th>\n      <th>Item_MRP</th>\n      <th>Outlet_Identifier</th>\n      <th>Years of Outlet_Service</th>\n      <th>Outlet_Size</th>\n      <th>Outlet_Location_Type</th>\n      <th>Outlet_Type</th>\n      <th>Item_Outlet_Sales</th>\n      <th>Outlet</th>\n    </tr>\n  </thead>\n  <tbody>\n    <tr>\n      <th>0</th>\n      <td>FDA15</td>\n      <td>9.30</td>\n      <td>1</td>\n      <td>0.016047</td>\n      <td>4</td>\n      <td>249.8092</td>\n      <td>OUT049</td>\n      <td>21</td>\n      <td>1</td>\n      <td>0</td>\n      <td>1</td>\n      <td>3735.1380</td>\n      <td>9</td>\n    </tr>\n    <tr>\n      <th>1</th>\n      <td>DRC01</td>\n      <td>5.92</td>\n      <td>0</td>\n      <td>0.019278</td>\n      <td>14</td>\n      <td>48.2692</td>\n      <td>OUT018</td>\n      <td>11</td>\n      <td>1</td>\n      <td>2</td>\n      <td>2</td>\n      <td>443.4228</td>\n      <td>3</td>\n    </tr>\n    <tr>\n      <th>2</th>\n      <td>FDN15</td>\n      <td>17.50</td>\n      <td>1</td>\n      <td>0.016760</td>\n      <td>10</td>\n      <td>141.6180</td>\n      <td>OUT049</td>\n      <td>21</td>\n      <td>1</td>\n      <td>0</td>\n      <td>1</td>\n      <td>2097.2700</td>\n      <td>9</td>\n    </tr>\n    <tr>\n      <th>3</th>\n      <td>FDX07</td>\n      <td>19.20</td>\n      <td>0</td>\n      <td>0.000000</td>\n      <td>6</td>\n      <td>182.0950</td>\n      <td>OUT010</td>\n      <td>22</td>\n      <td>0</td>\n      <td>2</td>\n      <td>0</td>\n      <td>732.3800</td>\n      <td>0</td>\n    </tr>\n    <tr>\n      <th>4</th>\n      <td>NCD19</td>\n      <td>8.93</td>\n      <td>1</td>\n      <td>0.000000</td>\n      <td>9</td>\n      <td>53.8614</td>\n      <td>OUT013</td>\n      <td>33</td>\n      <td>0</td>\n      <td>2</td>\n      <td>1</td>\n      <td>994.7052</td>\n      <td>1</td>\n    </tr>\n  </tbody>\n</table>\n</div>"
     },
     "metadata": {},
     "execution_count": 203
    }
   ],
   "source": [
    "data_to_be_proccessed.head()"
   ]
  },
  {
   "cell_type": "code",
   "execution_count": 204,
   "metadata": {},
   "outputs": [],
   "source": [
    "#Dummy Variables:\n",
    "data_to_be_proccessed = pd.get_dummies(data_to_be_proccessed, columns =features)"
   ]
  },
  {
   "cell_type": "code",
   "execution_count": 205,
   "metadata": {},
   "outputs": [
    {
     "output_type": "execute_result",
     "data": {
      "text/plain": "  Item_Identifier  Item_Weight  Item_Visibility  Item_MRP Outlet_Identifier  \\\n0           FDA15         9.30         0.016047  249.8092            OUT049   \n1           DRC01         5.92         0.019278   48.2692            OUT018   \n2           FDN15        17.50         0.016760  141.6180            OUT049   \n3           FDX07        19.20         0.000000  182.0950            OUT010   \n4           NCD19         8.93         0.000000   53.8614            OUT013   \n\n   Years of Outlet_Service  Item_Outlet_Sales  Outlet  Item_Fat_Content_0  \\\n0                       21          3735.1380       9                   0   \n1                       11           443.4228       3                   1   \n2                       21          2097.2700       9                   0   \n3                       22           732.3800       0                   1   \n4                       33           994.7052       1                   0   \n\n   Item_Fat_Content_1  ...  Outlet_Size_0  Outlet_Size_1  Outlet_Size_2  \\\n0                   1  ...              0              1              0   \n1                   0  ...              0              1              0   \n2                   1  ...              0              1              0   \n3                   0  ...              1              0              0   \n4                   1  ...              1              0              0   \n\n   Outlet_Location_Type_0  Outlet_Location_Type_1  Outlet_Location_Type_2  \\\n0                       1                       0                       0   \n1                       0                       0                       1   \n2                       1                       0                       0   \n3                       0                       0                       1   \n4                       0                       0                       1   \n\n   Outlet_Type_0  Outlet_Type_1  Outlet_Type_2  Outlet_Type_3  \n0              0              1              0              0  \n1              0              0              1              0  \n2              0              1              0              0  \n3              1              0              0              0  \n4              0              1              0              0  \n\n[5 rows x 36 columns]",
      "text/html": "<div>\n<style scoped>\n    .dataframe tbody tr th:only-of-type {\n        vertical-align: middle;\n    }\n\n    .dataframe tbody tr th {\n        vertical-align: top;\n    }\n\n    .dataframe thead th {\n        text-align: right;\n    }\n</style>\n<table border=\"1\" class=\"dataframe\">\n  <thead>\n    <tr style=\"text-align: right;\">\n      <th></th>\n      <th>Item_Identifier</th>\n      <th>Item_Weight</th>\n      <th>Item_Visibility</th>\n      <th>Item_MRP</th>\n      <th>Outlet_Identifier</th>\n      <th>Years of Outlet_Service</th>\n      <th>Item_Outlet_Sales</th>\n      <th>Outlet</th>\n      <th>Item_Fat_Content_0</th>\n      <th>Item_Fat_Content_1</th>\n      <th>...</th>\n      <th>Outlet_Size_0</th>\n      <th>Outlet_Size_1</th>\n      <th>Outlet_Size_2</th>\n      <th>Outlet_Location_Type_0</th>\n      <th>Outlet_Location_Type_1</th>\n      <th>Outlet_Location_Type_2</th>\n      <th>Outlet_Type_0</th>\n      <th>Outlet_Type_1</th>\n      <th>Outlet_Type_2</th>\n      <th>Outlet_Type_3</th>\n    </tr>\n  </thead>\n  <tbody>\n    <tr>\n      <th>0</th>\n      <td>FDA15</td>\n      <td>9.30</td>\n      <td>0.016047</td>\n      <td>249.8092</td>\n      <td>OUT049</td>\n      <td>21</td>\n      <td>3735.1380</td>\n      <td>9</td>\n      <td>0</td>\n      <td>1</td>\n      <td>...</td>\n      <td>0</td>\n      <td>1</td>\n      <td>0</td>\n      <td>1</td>\n      <td>0</td>\n      <td>0</td>\n      <td>0</td>\n      <td>1</td>\n      <td>0</td>\n      <td>0</td>\n    </tr>\n    <tr>\n      <th>1</th>\n      <td>DRC01</td>\n      <td>5.92</td>\n      <td>0.019278</td>\n      <td>48.2692</td>\n      <td>OUT018</td>\n      <td>11</td>\n      <td>443.4228</td>\n      <td>3</td>\n      <td>1</td>\n      <td>0</td>\n      <td>...</td>\n      <td>0</td>\n      <td>1</td>\n      <td>0</td>\n      <td>0</td>\n      <td>0</td>\n      <td>1</td>\n      <td>0</td>\n      <td>0</td>\n      <td>1</td>\n      <td>0</td>\n    </tr>\n    <tr>\n      <th>2</th>\n      <td>FDN15</td>\n      <td>17.50</td>\n      <td>0.016760</td>\n      <td>141.6180</td>\n      <td>OUT049</td>\n      <td>21</td>\n      <td>2097.2700</td>\n      <td>9</td>\n      <td>0</td>\n      <td>1</td>\n      <td>...</td>\n      <td>0</td>\n      <td>1</td>\n      <td>0</td>\n      <td>1</td>\n      <td>0</td>\n      <td>0</td>\n      <td>0</td>\n      <td>1</td>\n      <td>0</td>\n      <td>0</td>\n    </tr>\n    <tr>\n      <th>3</th>\n      <td>FDX07</td>\n      <td>19.20</td>\n      <td>0.000000</td>\n      <td>182.0950</td>\n      <td>OUT010</td>\n      <td>22</td>\n      <td>732.3800</td>\n      <td>0</td>\n      <td>1</td>\n      <td>0</td>\n      <td>...</td>\n      <td>1</td>\n      <td>0</td>\n      <td>0</td>\n      <td>0</td>\n      <td>0</td>\n      <td>1</td>\n      <td>1</td>\n      <td>0</td>\n      <td>0</td>\n      <td>0</td>\n    </tr>\n    <tr>\n      <th>4</th>\n      <td>NCD19</td>\n      <td>8.93</td>\n      <td>0.000000</td>\n      <td>53.8614</td>\n      <td>OUT013</td>\n      <td>33</td>\n      <td>994.7052</td>\n      <td>1</td>\n      <td>0</td>\n      <td>1</td>\n      <td>...</td>\n      <td>1</td>\n      <td>0</td>\n      <td>0</td>\n      <td>0</td>\n      <td>0</td>\n      <td>1</td>\n      <td>0</td>\n      <td>1</td>\n      <td>0</td>\n      <td>0</td>\n    </tr>\n  </tbody>\n</table>\n<p>5 rows × 36 columns</p>\n</div>"
     },
     "metadata": {},
     "execution_count": 205
    }
   ],
   "source": [
    "data_to_be_proccessed.head()"
   ]
  },
  {
   "cell_type": "code",
   "execution_count": 206,
   "metadata": {},
   "outputs": [],
   "source": [
    "processed_data=data_to_be_proccessed.copy()"
   ]
  },
  {
   "cell_type": "code",
   "execution_count": 207,
   "metadata": {},
   "outputs": [],
   "source": [
    "processed_data.to_csv(\"Proccessed_data2.csv\",index=False)"
   ]
  },
  {
   "cell_type": "code",
   "execution_count": null,
   "metadata": {},
   "outputs": [],
   "source": []
  }
 ]
}